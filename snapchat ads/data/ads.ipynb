{
 "cells": [
  {
   "cell_type": "markdown",
   "metadata": {},
   "source": [
    "# Snapchat Political Ads\n",
    "* **See the main project notebook for instructions to be sure you satisfy the rubric!**\n",
    "* See Project 03 for information on the dataset.\n",
    "* A few example prediction questions to pursue are listed below. However, don't limit yourself to them!\n",
    "    * Predict the reach (number of views) of an ad.\n",
    "    * Predict how much was spent on an ad.\n",
    "    * Predict the target group of an ad. (For example, predict the target gender.)\n",
    "    * Predict the (type of) organization/advertiser behind an ad.\n",
    "\n",
    "Be careful to justify what information you would know at the \"time of prediction\" and train your model using only those features."
   ]
  },
  {
   "cell_type": "markdown",
   "metadata": {},
   "source": [
    "# Summary of Findings\n",
    "\n",
    "\n",
    "### Introduction\n",
    "    In dataframe ads, we have one column names \"Impression\" which represents \"Number of times the Ad has been viewed by Snapchatters\". To some degree, this value can show how much benefits this ads can bring to its company. In this project, I am gonna train a linear regression model to predict the 'Impression' values\n",
    "\n",
    "* Prediction Problem: Predict the reach (number of views) of an ad.\n",
    "* Problem Type: Regression problem, \n",
    "* Models Choosing: Linear Regression model for predicting. \n",
    "* Target Variable: Values in \"Impression\" column in ads dataframe\n",
    "* Evaluation metrics: RMSE (rooted mean square error) for evaluating the accuracy and R2 score for evaluating how good our model fit to data\n",
    "\n",
    "\n",
    "### Baseline Model\n",
    "* Model description\n",
    "For a baseline model, I am gonna use 1 quantitative data - Spend, and five catagorical data (nominal data) - Gender, RegionID, AgeBracket, Language, Segments. For baseline model, I will do nothing on the quantitative data and one hot every catagorical data (after replce all nan values with 'all'). Intuitively, all four parameters should somehow related to values in \"Impression\" and that is why I chose them for trainning baseline model.\n",
    "    * X1: values in column \"spend\", which represents \"Amount (In USD) spent by the advertiser over the campaign (up to the current date)\". The values will keep as what they are. There will be no features engineering on it for now. It is a quantitative data.\n",
    "    * X2: values in column \"Gender\", since nan values mean all genders here, we will first repalce nan with all and then one hot.\n",
    "    * X3: values in column \"RegionID\", same with 'Gender'.\n",
    "    * X4: values in column \"AgeBracket\", same with 'Gender'.\n",
    "    * X5: values in column \"Segments\", same with 'Gender'\n",
    "    * X6: values in column 'Language', same with'Gender'.\n",
    "    * Y: values in 'Impressions\"\n",
    "    * test, train ration: 3:7\n",
    "* Model Performance\n",
    "    * For trainning sets, rmse is 2.028559e+06, and r2_score is 0.795591.\t\n",
    "    * For test sets, rmse is 2.010769e+06 and r2_score is 0.448908. \t\t\n",
    "    * rmses are quite high\n",
    "    * r2_score of trainning set are quite good, especially for a baseline model. However, what we care about is r2score for test sets. The baseline model did not really good on test sets, with r2scroe of only 0.407115. Our model may overfitted on the trainning set and when it predicts values on test sets, it did pretty bad\n",
    "    \n",
    " \n",
    "    \n",
    "### Final Model\n",
    "* Model description\n",
    "We will add a new data - Duration, which is calculated by EndDate - StartDate (for null values in EndDate, I repalce them with 12/04/2019. The results will be numbers representing how many days the ad is on Snapchat. For both Duration and Spend, I will do no features.\n",
    "Also, I add three features to catogricals data. For data Gender, Segments, RegionID, since the number of Nan values (replaced by \"ALL\") is too big that we will transform data to 0/1 (is all or not). For data Language, we will replace nan with all, keep en and replace all others with 'others' and then one hot. For data AgeBracket, we will replace nan with all and keep 18+ and 18-30 and then one hot. For the regressor model, we will still use linear regression but we will adt pvc and gready search for a best fitted model.\n",
    "    * X1: values in column 'Spend', no features applied\n",
    "    * X2: values in column 'EndDate' and 'StartDate', get how many days between two dates, replace nan values in 'EndDate' with 12/04/2019\n",
    "    * X3: values in column 'AgeBracket', keep 'All', '18+' and '18-30', replace all others with 'others' and then one-hot.\n",
    "    * X4: values in column 'Segments', replace 'ALl' with 1 and others with 0\n",
    "    * X5: values in column 'Gender', same with X4\n",
    "    * X6: values in column 'RegionID', same with X4\n",
    "    * X7: values in column 'Language', keep 'All' and 'en', repalce all others with 'others' and then one-hot\n",
    "    * Y: values in column 'Impressions'\n",
    "    * test, train ration: 3:7\n",
    "    \n",
    "* Model Performence\n",
    "    * For trainning sets, rmse is 2.466698e+06, and r2_score is 0.713277.\t\n",
    "    * For test sets, rmse is 1.355102e+06 and r2_score is 0.615836.\n",
    "    * For both rmse, there is not a clear improvement than baseline model\n",
    "    * However, for test sets, there is a huge improvement from 0.45 to 0.61\n",
    "\t\n",
    "* Model Analysis\n",
    "    * The model performence is not good enough, so we plot the data and found out that original data do not have a strong linear relationship and other relationships. As a result, we can not get a highly usefull data trained from such a data set.\n",
    "    \n",
    "    \n",
    "### Fairness Evaluation\n",
    "First, we fould out that there is a huge difference in rmse (between predicts of x_test and y_test) in three different catogories in column 'Gender'. This may means that our model have a unfair prediction toward a specific values in column \"Gender\".\n",
    "\n",
    "* Then we first ran a permutation test to see whether our model will predicts a better result when 'Gender' is 'MALE'; \n",
    "    * Null Hypothesis: there is no difference between rmse in ['diff'] when Gender is MALE and total_rmse\n",
    "    * Alternative Hypothesis: rmse in ['diff'] when Gender is MALE is lower than total_rmse, which means that our better predicts a better result when Gender is MALE\n",
    "    * Test stats: difference between rooted mean square of column['diff'] when Gender is ‘MALE’ and total_rmse\n",
    "    * Significant Level: 0.95\n",
    "    * outcome p_value: 0.01 < 0.025\n",
    "    * we have enough evidence to say null hypothesis is wrong.\n",
    "   \n",
    "* Then we ran a permutation test to see whether our model will predicts a worse result when 'Gender' is 'All';\n",
    "    * Null Hypothesis: there is no difference between rmse in ['diff'] when Gender is All and NOTAll\n",
    "    * Alternative Hypothesis: rmse in ['diff'] when Gender is ALL is higher than rmse in ['diff] when Gender is NOTAll.\n",
    "    * Test stats: absolute difference between rooted mean square of column['diff'] when Gender is ‘ALL’ and NOTAll\n",
    "    * Significant Level: 0.95\n",
    "    * outcome p_value: 0.00 < 0.025\n",
    "    * we have enough evidence to say null hypothesis is wrong.\n",
    "\n",
    "Two permurtation test shows that our model do have a unfairness on 'Gender' input. More specifically, it will predicts a better result if input Gender is not 'All'"
   ]
  },
  {
   "cell_type": "markdown",
   "metadata": {},
   "source": [
    "# Code"
   ]
  },
  {
   "cell_type": "code",
   "execution_count": 786,
   "metadata": {},
   "outputs": [],
   "source": [
    "import matplotlib.pyplot as plt\n",
    "import numpy as np\n",
    "import os\n",
    "import pandas as pd\n",
    "import seaborn as sns\n",
    "from sklearn.model_selection import train_test_split\n",
    "from sklearn.linear_model import LinearRegression\n",
    "from dateutil.rrule import rrule, DAILY\n",
    "from sklearn.metrics import mean_squared_error\n",
    "from sklearn.metrics import r2_score\n",
    "import datetime\n",
    "import math\n",
    "from sklearn.pipeline import Pipeline\n",
    "from sklearn.preprocessing import FunctionTransformer\n",
    "from sklearn.preprocessing import OneHotEncoder\n",
    "from sklearn.compose import ColumnTransformer\n",
    "from sklearn.model_selection import GridSearchCV\n",
    "from sklearn.decomposition import PCA\n",
    "from sklearn.preprocessing import StandardScaler\n",
    "%matplotlib inline\n",
    "%config InlineBackend.figure_format = 'retina'  # Higher resolution figures\n",
    "ads_2018 = pd.read_csv('data/2018.csv') #import data\n",
    "ads_2019 = pd.read_csv('data/2019.csv') #import data\n",
    "ads_2018 = ads_2018.assign(Year=2018) # assign a column represent the year before concate\n",
    "ads_2019 = ads_2019.assign(Year=2019)\n",
    "ads = pd.concat([ads_2018, ads_2019], axis=0) # concate two dataframe"
   ]
  },
  {
   "cell_type": "code",
   "execution_count": 658,
   "metadata": {},
   "outputs": [
    {
     "data": {
      "text/html": [
       "<div>\n",
       "<style scoped>\n",
       "    .dataframe tbody tr th:only-of-type {\n",
       "        vertical-align: middle;\n",
       "    }\n",
       "\n",
       "    .dataframe tbody tr th {\n",
       "        vertical-align: top;\n",
       "    }\n",
       "\n",
       "    .dataframe thead th {\n",
       "        text-align: right;\n",
       "    }\n",
       "</style>\n",
       "<table border=\"1\" class=\"dataframe\">\n",
       "  <thead>\n",
       "    <tr style=\"text-align: right;\">\n",
       "      <th></th>\n",
       "      <th>ADID</th>\n",
       "      <th>CreativeUrl</th>\n",
       "      <th>Spend</th>\n",
       "      <th>Impressions</th>\n",
       "      <th>StartDate</th>\n",
       "      <th>EndDate</th>\n",
       "      <th>OrganizationName</th>\n",
       "      <th>BillingAddress</th>\n",
       "      <th>CandidateBallotInformation</th>\n",
       "      <th>PayingAdvertiserName</th>\n",
       "      <th>...</th>\n",
       "      <th>OsType</th>\n",
       "      <th>Segments</th>\n",
       "      <th>LocationType</th>\n",
       "      <th>Language</th>\n",
       "      <th>AdvancedDemographics</th>\n",
       "      <th>Targeting Connection Type</th>\n",
       "      <th>Targeting Carrier (ISP)</th>\n",
       "      <th>Targeting Geo - Postal Code</th>\n",
       "      <th>CreativeProperties</th>\n",
       "      <th>Year</th>\n",
       "    </tr>\n",
       "  </thead>\n",
       "  <tbody>\n",
       "    <tr>\n",
       "      <th>0</th>\n",
       "      <td>2ac103bc69cce2d24b198e6a6d052dbff2c25ae9b6bb9e...</td>\n",
       "      <td>https://www.snap.com/political-ads/asset/69afd...</td>\n",
       "      <td>165</td>\n",
       "      <td>49446</td>\n",
       "      <td>2018/11/01 22:42:22Z</td>\n",
       "      <td>2018/11/06 23:00:00Z</td>\n",
       "      <td>Bully Pulpit Interactive</td>\n",
       "      <td>1140 Connecticut Ave NW, Suite 800,Washington,...</td>\n",
       "      <td>NaN</td>\n",
       "      <td>NextGen America</td>\n",
       "      <td>...</td>\n",
       "      <td>NaN</td>\n",
       "      <td>NaN</td>\n",
       "      <td>NaN</td>\n",
       "      <td>NaN</td>\n",
       "      <td>NaN</td>\n",
       "      <td>NaN</td>\n",
       "      <td>NaN</td>\n",
       "      <td>NaN</td>\n",
       "      <td>web_view_url:https://nextgenamerica.org/lookup...</td>\n",
       "      <td>2018</td>\n",
       "    </tr>\n",
       "    <tr>\n",
       "      <th>1</th>\n",
       "      <td>40ee7e900be9357ae88181f5c8a56baf6d5aab0e8d0f51...</td>\n",
       "      <td>https://www.snap.com/political-ads/asset/0885d...</td>\n",
       "      <td>17</td>\n",
       "      <td>23805</td>\n",
       "      <td>2018/11/15 15:52:06Z</td>\n",
       "      <td>2018/11/24 15:50:38Z</td>\n",
       "      <td>Amnesty International Switzerland</td>\n",
       "      <td>CH</td>\n",
       "      <td>NaN</td>\n",
       "      <td>Amnesty International</td>\n",
       "      <td>...</td>\n",
       "      <td>NaN</td>\n",
       "      <td>Provided by Advertiser</td>\n",
       "      <td>NaN</td>\n",
       "      <td>de</td>\n",
       "      <td>NaN</td>\n",
       "      <td>NaN</td>\n",
       "      <td>NaN</td>\n",
       "      <td>NaN</td>\n",
       "      <td>NaN</td>\n",
       "      <td>2018</td>\n",
       "    </tr>\n",
       "    <tr>\n",
       "      <th>2</th>\n",
       "      <td>c80ca50681d552551ceaf625981c0202589ca710d51925...</td>\n",
       "      <td>https://www.snap.com/political-ads/asset/a36b7...</td>\n",
       "      <td>60</td>\n",
       "      <td>12883</td>\n",
       "      <td>2018/09/28 23:10:14Z</td>\n",
       "      <td>2018/10/10 02:00:00Z</td>\n",
       "      <td>Chong and Koster</td>\n",
       "      <td>1640 Rhode Island Ave. NW, Suite 600,Washingto...</td>\n",
       "      <td>NaN</td>\n",
       "      <td>Voter Participation Center</td>\n",
       "      <td>...</td>\n",
       "      <td>NaN</td>\n",
       "      <td>Provided by Advertiser</td>\n",
       "      <td>NaN</td>\n",
       "      <td>NaN</td>\n",
       "      <td>Marital Status (Single)</td>\n",
       "      <td>NaN</td>\n",
       "      <td>NaN</td>\n",
       "      <td>NaN</td>\n",
       "      <td>web_view_url:https://www.voterparticipation.or...</td>\n",
       "      <td>2018</td>\n",
       "    </tr>\n",
       "    <tr>\n",
       "      <th>3</th>\n",
       "      <td>a3106af2289b62f57f63f4fb89753bdf94e2fadede0478...</td>\n",
       "      <td>https://www.snap.com/political-ads/asset/46819...</td>\n",
       "      <td>2492</td>\n",
       "      <td>377236</td>\n",
       "      <td>2018/10/27 19:23:19Z</td>\n",
       "      <td>2018/11/06 23:00:00Z</td>\n",
       "      <td>Middle Seat Consulting, LLC</td>\n",
       "      <td>Po Box 21600,Washington,20009,US</td>\n",
       "      <td>NaN</td>\n",
       "      <td>Beto for Texas</td>\n",
       "      <td>...</td>\n",
       "      <td>NaN</td>\n",
       "      <td>NaN</td>\n",
       "      <td>NaN</td>\n",
       "      <td>NaN</td>\n",
       "      <td>NaN</td>\n",
       "      <td>NaN</td>\n",
       "      <td>NaN</td>\n",
       "      <td>NaN</td>\n",
       "      <td>web_view_url:https://betofortexas.com/vote/?ut...</td>\n",
       "      <td>2018</td>\n",
       "    </tr>\n",
       "    <tr>\n",
       "      <th>4</th>\n",
       "      <td>7afda4224482eb70315797966b4dcdeb856df916df5bdc...</td>\n",
       "      <td>https://www.snap.com/political-ads/asset/ee833...</td>\n",
       "      <td>5795</td>\n",
       "      <td>467760</td>\n",
       "      <td>2018/10/25 04:00:00Z</td>\n",
       "      <td>2018/11/06 23:00:00Z</td>\n",
       "      <td>Middle Seat Consulting, LLC</td>\n",
       "      <td>Po Box 21600,Washington,20009,US</td>\n",
       "      <td>NaN</td>\n",
       "      <td>Beto for Texas</td>\n",
       "      <td>...</td>\n",
       "      <td>NaN</td>\n",
       "      <td>NaN</td>\n",
       "      <td>NaN</td>\n",
       "      <td>NaN</td>\n",
       "      <td>NaN</td>\n",
       "      <td>NaN</td>\n",
       "      <td>NaN</td>\n",
       "      <td>NaN</td>\n",
       "      <td>NaN</td>\n",
       "      <td>2018</td>\n",
       "    </tr>\n",
       "  </tbody>\n",
       "</table>\n",
       "<p>5 rows × 28 columns</p>\n",
       "</div>"
      ],
      "text/plain": [
       "                                                ADID  \\\n",
       "0  2ac103bc69cce2d24b198e6a6d052dbff2c25ae9b6bb9e...   \n",
       "1  40ee7e900be9357ae88181f5c8a56baf6d5aab0e8d0f51...   \n",
       "2  c80ca50681d552551ceaf625981c0202589ca710d51925...   \n",
       "3  a3106af2289b62f57f63f4fb89753bdf94e2fadede0478...   \n",
       "4  7afda4224482eb70315797966b4dcdeb856df916df5bdc...   \n",
       "\n",
       "                                         CreativeUrl  Spend  Impressions  \\\n",
       "0  https://www.snap.com/political-ads/asset/69afd...    165        49446   \n",
       "1  https://www.snap.com/political-ads/asset/0885d...     17        23805   \n",
       "2  https://www.snap.com/political-ads/asset/a36b7...     60        12883   \n",
       "3  https://www.snap.com/political-ads/asset/46819...   2492       377236   \n",
       "4  https://www.snap.com/political-ads/asset/ee833...   5795       467760   \n",
       "\n",
       "              StartDate               EndDate  \\\n",
       "0  2018/11/01 22:42:22Z  2018/11/06 23:00:00Z   \n",
       "1  2018/11/15 15:52:06Z  2018/11/24 15:50:38Z   \n",
       "2  2018/09/28 23:10:14Z  2018/10/10 02:00:00Z   \n",
       "3  2018/10/27 19:23:19Z  2018/11/06 23:00:00Z   \n",
       "4  2018/10/25 04:00:00Z  2018/11/06 23:00:00Z   \n",
       "\n",
       "                    OrganizationName  \\\n",
       "0           Bully Pulpit Interactive   \n",
       "1  Amnesty International Switzerland   \n",
       "2                   Chong and Koster   \n",
       "3        Middle Seat Consulting, LLC   \n",
       "4        Middle Seat Consulting, LLC   \n",
       "\n",
       "                                      BillingAddress  \\\n",
       "0  1140 Connecticut Ave NW, Suite 800,Washington,...   \n",
       "1                                                 CH   \n",
       "2  1640 Rhode Island Ave. NW, Suite 600,Washingto...   \n",
       "3                   Po Box 21600,Washington,20009,US   \n",
       "4                   Po Box 21600,Washington,20009,US   \n",
       "\n",
       "  CandidateBallotInformation        PayingAdvertiserName  ... OsType  \\\n",
       "0                        NaN             NextGen America  ...    NaN   \n",
       "1                        NaN       Amnesty International  ...    NaN   \n",
       "2                        NaN  Voter Participation Center  ...    NaN   \n",
       "3                        NaN              Beto for Texas  ...    NaN   \n",
       "4                        NaN              Beto for Texas  ...    NaN   \n",
       "\n",
       "                 Segments LocationType Language     AdvancedDemographics  \\\n",
       "0                     NaN          NaN      NaN                      NaN   \n",
       "1  Provided by Advertiser          NaN       de                      NaN   \n",
       "2  Provided by Advertiser          NaN      NaN  Marital Status (Single)   \n",
       "3                     NaN          NaN      NaN                      NaN   \n",
       "4                     NaN          NaN      NaN                      NaN   \n",
       "\n",
       "   Targeting Connection Type Targeting Carrier (ISP)  \\\n",
       "0                        NaN                     NaN   \n",
       "1                        NaN                     NaN   \n",
       "2                        NaN                     NaN   \n",
       "3                        NaN                     NaN   \n",
       "4                        NaN                     NaN   \n",
       "\n",
       "  Targeting Geo - Postal Code  \\\n",
       "0                         NaN   \n",
       "1                         NaN   \n",
       "2                         NaN   \n",
       "3                         NaN   \n",
       "4                         NaN   \n",
       "\n",
       "                                  CreativeProperties  Year  \n",
       "0  web_view_url:https://nextgenamerica.org/lookup...  2018  \n",
       "1                                                NaN  2018  \n",
       "2  web_view_url:https://www.voterparticipation.or...  2018  \n",
       "3  web_view_url:https://betofortexas.com/vote/?ut...  2018  \n",
       "4                                                NaN  2018  \n",
       "\n",
       "[5 rows x 28 columns]"
      ]
     },
     "execution_count": 658,
     "metadata": {},
     "output_type": "execute_result"
    }
   ],
   "source": [
    "ads.head()"
   ]
  },
  {
   "cell_type": "markdown",
   "metadata": {},
   "source": [
    "### Baseline Model"
   ]
  },
  {
   "cell_type": "markdown",
   "metadata": {},
   "source": [
    "#### Model Training"
   ]
  },
  {
   "cell_type": "code",
   "execution_count": 977,
   "metadata": {},
   "outputs": [],
   "source": [
    "X = ads.loc[:, ['Spend', 'Gender', 'Language', 'RegionID', \"Segments\", 'AgeBracket']] # get x values\n",
    "X = X.fillna('All')\n",
    "y = ads.Impressions # get y \n",
    "x_train, x_test, y_train, y_test = train_test_split(X, y, test_size=0.3) # get test and train sets"
   ]
  },
  {
   "cell_type": "code",
   "execution_count": 978,
   "metadata": {},
   "outputs": [],
   "source": [
    "# cat\n",
    "cat_feat = ['Language', 'Gender', 'RegionID', 'Segments', 'AgeBracket']\n",
    "cat_transformer = Pipeline([\n",
    "    ('one-hot', OneHotEncoder())\n",
    "])\n",
    "\n",
    "spend_feat = ['Spend']\n",
    "spend_transformer = Pipeline([\n",
    "    ('same', FunctionTransformer(lambda x: x))\n",
    "])\n",
    "# preprocessing pipeline (put them together)\n",
    "preproc = ColumnTransformer([\n",
    "    ('cat', cat_transformer, cat_feat),\n",
    "    ('spend', spend_transformer, spend_feat)\n",
    "])\n",
    "\n",
    "plb = Pipeline([('preprocessor', preproc), ('regressor', LinearRegression())])"
   ]
  },
  {
   "cell_type": "code",
   "execution_count": 979,
   "metadata": {},
   "outputs": [
    {
     "name": "stderr",
     "output_type": "stream",
     "text": [
      "C:\\Users\\xinrui zhan\\Anaconda3\\lib\\site-packages\\sklearn\\preprocessing\\_function_transformer.py:97: FutureWarning: The default validate=True will be replaced by validate=False in 0.22.\n",
      "  \"validate=False in 0.22.\", FutureWarning)\n",
      "C:\\Users\\xinrui zhan\\Anaconda3\\lib\\site-packages\\sklearn\\preprocessing\\_function_transformer.py:97: FutureWarning: The default validate=True will be replaced by validate=False in 0.22.\n",
      "  \"validate=False in 0.22.\", FutureWarning)\n"
     ]
    },
    {
     "data": {
      "text/plain": [
       "Pipeline(memory=None,\n",
       "         steps=[('preprocessor',\n",
       "                 ColumnTransformer(n_jobs=None, remainder='drop',\n",
       "                                   sparse_threshold=0.3,\n",
       "                                   transformer_weights=None,\n",
       "                                   transformers=[('cat',\n",
       "                                                  Pipeline(memory=None,\n",
       "                                                           steps=[('one-hot',\n",
       "                                                                   OneHotEncoder(categorical_features=None,\n",
       "                                                                                 categories=None,\n",
       "                                                                                 drop=None,\n",
       "                                                                                 dtype=<class 'numpy.float64'>,\n",
       "                                                                                 handle_unknown='error',\n",
       "                                                                                 n_values=None,\n",
       "                                                                                 sparse=True))],\n",
       "                                                           verbos...\n",
       "                                                           steps=[('same',\n",
       "                                                                   FunctionTransformer(accept_sparse=False,\n",
       "                                                                                       check_inverse=True,\n",
       "                                                                                       func=<function <lambda> at 0x000002093B057488>,\n",
       "                                                                                       inv_kw_args=None,\n",
       "                                                                                       inverse_func=None,\n",
       "                                                                                       kw_args=None,\n",
       "                                                                                       pass_y='deprecated',\n",
       "                                                                                       validate=None))],\n",
       "                                                           verbose=False),\n",
       "                                                  ['Spend'])],\n",
       "                                   verbose=False)),\n",
       "                ('regressor',\n",
       "                 LinearRegression(copy_X=True, fit_intercept=True, n_jobs=None,\n",
       "                                  normalize=False))],\n",
       "         verbose=False)"
      ]
     },
     "execution_count": 979,
     "metadata": {},
     "output_type": "execute_result"
    }
   ],
   "source": [
    "plb.fit(X, y)"
   ]
  },
  {
   "cell_type": "markdown",
   "metadata": {},
   "source": [
    "#### Performence"
   ]
  },
  {
   "cell_type": "code",
   "execution_count": 980,
   "metadata": {},
   "outputs": [
    {
     "name": "stdout",
     "output_type": "stream",
     "text": [
      "baseline model rmse_train:  2028559.1175926698\n",
      "baseline model r2_train:  0.7955913044571379\n"
     ]
    },
    {
     "name": "stderr",
     "output_type": "stream",
     "text": [
      "C:\\Users\\xinrui zhan\\Anaconda3\\lib\\site-packages\\sklearn\\preprocessing\\_function_transformer.py:97: FutureWarning: The default validate=True will be replaced by validate=False in 0.22.\n",
      "  \"validate=False in 0.22.\", FutureWarning)\n",
      "C:\\Users\\xinrui zhan\\Anaconda3\\lib\\site-packages\\sklearn\\preprocessing\\_function_transformer.py:97: FutureWarning: The default validate=True will be replaced by validate=False in 0.22.\n",
      "  \"validate=False in 0.22.\", FutureWarning)\n"
     ]
    }
   ],
   "source": [
    "# get the predict values of trainning sets and calculate rmse and r2 score of trainning sets\n",
    "base_predict_train = plb.predict(x_train)\n",
    "base_rmse_train = math.sqrt(mean_squared_error(base_predict_train, y_train))\n",
    "base_r2_train = plb.score(x_train, y_train)\n",
    "print(\"baseline model rmse_train: \", base_rmse_train)\n",
    "print(\"baseline model r2_train: \", base_r2_train)"
   ]
  },
  {
   "cell_type": "code",
   "execution_count": 981,
   "metadata": {},
   "outputs": [
    {
     "name": "stdout",
     "output_type": "stream",
     "text": [
      "baseline model rmse_test:  2010769.3499899418\n",
      "baseline model r2_test:  0.44890792360942205\n"
     ]
    },
    {
     "name": "stderr",
     "output_type": "stream",
     "text": [
      "C:\\Users\\xinrui zhan\\Anaconda3\\lib\\site-packages\\sklearn\\preprocessing\\_function_transformer.py:97: FutureWarning: The default validate=True will be replaced by validate=False in 0.22.\n",
      "  \"validate=False in 0.22.\", FutureWarning)\n",
      "C:\\Users\\xinrui zhan\\Anaconda3\\lib\\site-packages\\sklearn\\preprocessing\\_function_transformer.py:97: FutureWarning: The default validate=True will be replaced by validate=False in 0.22.\n",
      "  \"validate=False in 0.22.\", FutureWarning)\n"
     ]
    }
   ],
   "source": [
    "# get the predict values of test sets and calculate rmse and r2 score of test sets\n",
    "base_predict_test = plb.predict(x_test)\n",
    "base_rmse_test = math.sqrt(mean_squared_error(base_predict_test, y_test))\n",
    "base_r2_test = plb.score(x_test, y_test)\n",
    "print(\"baseline model rmse_test: \", base_rmse_test)\n",
    "print(\"baseline model r2_test: \", base_r2_test)"
   ]
  },
  {
   "cell_type": "code",
   "execution_count": 982,
   "metadata": {},
   "outputs": [
    {
     "data": {
      "text/html": [
       "<div>\n",
       "<style scoped>\n",
       "    .dataframe tbody tr th:only-of-type {\n",
       "        vertical-align: middle;\n",
       "    }\n",
       "\n",
       "    .dataframe tbody tr th {\n",
       "        vertical-align: top;\n",
       "    }\n",
       "\n",
       "    .dataframe thead th {\n",
       "        text-align: right;\n",
       "    }\n",
       "</style>\n",
       "<table border=\"1\" class=\"dataframe\">\n",
       "  <thead>\n",
       "    <tr style=\"text-align: right;\">\n",
       "      <th></th>\n",
       "      <th>rmse</th>\n",
       "      <th>r2</th>\n",
       "    </tr>\n",
       "  </thead>\n",
       "  <tbody>\n",
       "    <tr>\n",
       "      <th>trainning sets</th>\n",
       "      <td>2.028559e+06</td>\n",
       "      <td>0.795591</td>\n",
       "    </tr>\n",
       "    <tr>\n",
       "      <th>test sets</th>\n",
       "      <td>2.010769e+06</td>\n",
       "      <td>0.448908</td>\n",
       "    </tr>\n",
       "  </tbody>\n",
       "</table>\n",
       "</div>"
      ],
      "text/plain": [
       "                        rmse        r2\n",
       "trainning sets  2.028559e+06  0.795591\n",
       "test sets       2.010769e+06  0.448908"
      ]
     },
     "execution_count": 982,
     "metadata": {},
     "output_type": "execute_result"
    }
   ],
   "source": [
    "stats_baseline = pd.DataFrame([[base_rmse_train, base_r2_train], [base_rmse_test, base_r2_test]], columns=['rmse', 'r2'], index=['trainning sets', 'test sets'])\n",
    "stats_baseline"
   ]
  },
  {
   "cell_type": "markdown",
   "metadata": {},
   "source": [
    "As we can see, the rmse for both trainning sets and test sets are quite high (but we still do not know whether it is good or bad yet); The r2 score for both sets actually are quite good for a baseline model."
   ]
  },
  {
   "cell_type": "code",
   "execution_count": 810,
   "metadata": {},
   "outputs": [
    {
     "data": {
      "text/html": [
       "<div>\n",
       "<style scoped>\n",
       "    .dataframe tbody tr th:only-of-type {\n",
       "        vertical-align: middle;\n",
       "    }\n",
       "\n",
       "    .dataframe tbody tr th {\n",
       "        vertical-align: top;\n",
       "    }\n",
       "\n",
       "    .dataframe thead th {\n",
       "        text-align: right;\n",
       "    }\n",
       "</style>\n",
       "<table border=\"1\" class=\"dataframe\">\n",
       "  <thead>\n",
       "    <tr style=\"text-align: right;\">\n",
       "      <th></th>\n",
       "      <th>0</th>\n",
       "    </tr>\n",
       "  </thead>\n",
       "  <tbody>\n",
       "    <tr>\n",
       "      <th>count</th>\n",
       "      <td>9.960000e+02</td>\n",
       "    </tr>\n",
       "    <tr>\n",
       "      <th>mean</th>\n",
       "      <td>5.672722e+05</td>\n",
       "    </tr>\n",
       "    <tr>\n",
       "      <th>std</th>\n",
       "      <td>2.125240e+06</td>\n",
       "    </tr>\n",
       "    <tr>\n",
       "      <th>min</th>\n",
       "      <td>-5.588122e+06</td>\n",
       "    </tr>\n",
       "    <tr>\n",
       "      <th>25%</th>\n",
       "      <td>6.066061e+04</td>\n",
       "    </tr>\n",
       "    <tr>\n",
       "      <th>50%</th>\n",
       "      <td>1.780759e+05</td>\n",
       "    </tr>\n",
       "    <tr>\n",
       "      <th>75%</th>\n",
       "      <td>4.611449e+05</td>\n",
       "    </tr>\n",
       "    <tr>\n",
       "      <th>max</th>\n",
       "      <td>3.795103e+07</td>\n",
       "    </tr>\n",
       "  </tbody>\n",
       "</table>\n",
       "</div>"
      ],
      "text/plain": [
       "                  0\n",
       "count  9.960000e+02\n",
       "mean   5.672722e+05\n",
       "std    2.125240e+06\n",
       "min   -5.588122e+06\n",
       "25%    6.066061e+04\n",
       "50%    1.780759e+05\n",
       "75%    4.611449e+05\n",
       "max    3.795103e+07"
      ]
     },
     "execution_count": 810,
     "metadata": {},
     "output_type": "execute_result"
    }
   ],
   "source": [
    "pd.DataFrame(base_predict_test).describe()"
   ]
  },
  {
   "cell_type": "markdown",
   "metadata": {},
   "source": [
    "### Final Model"
   ]
  },
  {
   "cell_type": "markdown",
   "metadata": {},
   "source": [
    "#### Analysis"
   ]
  },
  {
   "cell_type": "code",
   "execution_count": 918,
   "metadata": {},
   "outputs": [],
   "source": [
    "X = ads.loc[:, ['Language', 'Spend', 'RegionID', 'Gender', \"AgeBracket\", 'StartDate', 'EndDate', 'Segments']] # get the x\n",
    "X = clean(X) # calculate duration and repalce nan values\n",
    "y = ads['Impressions'] # get the y\n",
    "x_train, x_test, y_train, y_test = train_test_split(X, y, test_size=0.3)"
   ]
  },
  {
   "cell_type": "code",
   "execution_count": 919,
   "metadata": {},
   "outputs": [
    {
     "data": {
      "text/plain": [
       "All       2102\n",
       "FEMALE     167\n",
       "MALE        53\n",
       "Name: Gender, dtype: int64"
      ]
     },
     "execution_count": 919,
     "metadata": {},
     "output_type": "execute_result"
    }
   ],
   "source": [
    "x_train['Gender'].value_counts()\n",
    "# huge difference between both and female/male, so transform gender column to 'both/single (1/0)'"
   ]
  },
  {
   "cell_type": "code",
   "execution_count": 920,
   "metadata": {},
   "outputs": [
    {
     "data": {
      "text/plain": [
       "All      1672\n",
       "en        404\n",
       "fr         71\n",
       "nb         44\n",
       "nl         32\n",
       "da         26\n",
       "en,es      20\n",
       "de         17\n",
       "es         11\n",
       "ar          7\n",
       "Name: Language, dtype: int64"
      ]
     },
     "execution_count": 920,
     "metadata": {},
     "output_type": "execute_result"
    }
   ],
   "source": [
    "x_train['Language'].value_counts()[:10]\n",
    "# replace nan to all, en to en, and all others to other. Then use one-hot."
   ]
  },
  {
   "cell_type": "code",
   "execution_count": 921,
   "metadata": {},
   "outputs": [
    {
     "data": {
      "text/plain": [
       "All           1619\n",
       "Minnesota      212\n",
       "Florida         43\n",
       "Virginia        41\n",
       "Colorado        40\n",
       "Arizona         20\n",
       "Iowa            20\n",
       "Texas           15\n",
       "Queensland      11\n",
       "California      11\n",
       "Name: RegionID, dtype: int64"
      ]
     },
     "execution_count": 921,
     "metadata": {},
     "output_type": "execute_result"
    }
   ],
   "source": [
    "x_train['RegionID'].value_counts()[:10]\n",
    "# same method with gender since the number of all is huge."
   ]
  },
  {
   "cell_type": "code",
   "execution_count": 922,
   "metadata": {
    "scrolled": true
   },
   "outputs": [
    {
     "data": {
      "text/plain": [
       "18+      760\n",
       "18-30    238\n",
       "All      215\n",
       "18-34    167\n",
       "17+       81\n",
       "18-24     74\n",
       "25+       60\n",
       "18-29     60\n",
       "21+       57\n",
       "18-25     54\n",
       "Name: AgeBracket, dtype: int64"
      ]
     },
     "execution_count": 922,
     "metadata": {},
     "output_type": "execute_result"
    }
   ],
   "source": [
    "x_train['AgeBracket'].value_counts()[:10]\n",
    "# keep 18+, all, and 18-30, replace all others with 'others' and then one hot"
   ]
  },
  {
   "cell_type": "code",
   "execution_count": 923,
   "metadata": {},
   "outputs": [
    {
     "data": {
      "text/plain": [
       "Provided by Advertiser    1540\n",
       "All                        782\n",
       "Name: Segments, dtype: int64"
      ]
     },
     "execution_count": 923,
     "metadata": {},
     "output_type": "execute_result"
    }
   ],
   "source": [
    "x_train['Segments'].value_counts()[:10]\n",
    "# since only two, replace with 1/0 (all or provided by advertiser)"
   ]
  },
  {
   "cell_type": "markdown",
   "metadata": {},
   "source": [
    "####  Helper functions"
   ]
  },
  {
   "cell_type": "code",
   "execution_count": 924,
   "metadata": {},
   "outputs": [],
   "source": [
    "def cal_days(df):\n",
    "    # calculating how many months\n",
    "    df[['StartDate', 'EndDate']] = df[['StartDate', 'EndDate']].apply(pd.to_datetime) # transform \n",
    "    today = datetime.datetime(2019, 12, 5, tzinfo=datetime.timezone.utc)\n",
    "    df['EndDate'] = df['EndDate'].fillna(today) # replace the nan with today(12/4/2019)\n",
    "    func = lambda x: len([dt for dt in rrule(DAILY, dtstart=x['StartDate'], until=x['EndDate'])])\n",
    "    duaration = df.apply(func, axis=1) # calculate how many days \n",
    "    return duaration"
   ]
  },
  {
   "cell_type": "code",
   "execution_count": 925,
   "metadata": {},
   "outputs": [],
   "source": [
    "def clean(df):\n",
    "    df = (\n",
    "        df\n",
    "        .assign(Duration=cal_days(df))\n",
    "        .drop(columns=['StartDate', 'EndDate'])\n",
    "        .fillna('All')\n",
    "    )\n",
    "    return df"
   ]
  },
  {
   "cell_type": "code",
   "execution_count": 926,
   "metadata": {},
   "outputs": [],
   "source": [
    "def trans_01(df):\n",
    "    return pd.DataFrame(df.iloc[:, 0].apply(lambda x: 1 if x == 'All' else 0))"
   ]
  },
  {
   "cell_type": "code",
   "execution_count": 927,
   "metadata": {},
   "outputs": [],
   "source": [
    "def trans_language(df):\n",
    "    df = df.iloc[:,0]\n",
    "    df = df.apply(lambda x: 'others' if x != 'All' and x != 'en' else x)\n",
    "    return pd.DataFrame(df)"
   ]
  },
  {
   "cell_type": "code",
   "execution_count": 928,
   "metadata": {},
   "outputs": [],
   "source": [
    "def trans_age(df):\n",
    "    df = df.iloc[:,0]\n",
    "    df = df.apply(lambda x: 'others' if x != 'All' and x != '18+' and x != '18-30' else x)\n",
    "    return pd.DataFrame(df)"
   ]
  },
  {
   "cell_type": "markdown",
   "metadata": {},
   "source": [
    "#### Model Training"
   ]
  },
  {
   "cell_type": "code",
   "execution_count": 948,
   "metadata": {},
   "outputs": [],
   "source": [
    "# transform spend to spend per day\n",
    "money_feat = ['Spend']\n",
    "money_transformer = Pipeline(steps=[\n",
    "    ('money_p_d', FunctionTransformer(lambda x: x, validate=True))\n",
    "])\n",
    "\n",
    "duration_feat = ['Duration']\n",
    "duration_transformer = Pipeline(steps=[\n",
    "    ('duration', FunctionTransformer(lambda x: x, validate=True)),\n",
    "    ('pca', PCA(svd_solver='full'))\n",
    "])\n",
    "\n",
    "# Gender\n",
    "gender_feat = ['Gender']\n",
    "gender_transformer = Pipeline(steps=[\n",
    "    ('01', FunctionTransformer(trans_01, validate=False)),\n",
    "    ('pca', PCA(svd_solver='full'))\n",
    "])\n",
    "\n",
    "# region\n",
    "region_feat = ['RegionID']\n",
    "region_transformer = Pipeline(steps=[\n",
    "    ('01', FunctionTransformer(trans_01, validate=False)),\n",
    "    ('pca', PCA(svd_solver='full'))\n",
    "])\n",
    "\n",
    "# language\n",
    "language_feat = ['Language']\n",
    "language_transformer = Pipeline(steps=[\n",
    "    ('language', FunctionTransformer(trans_language, validate=False)),\n",
    "    ('one-hot', OneHotEncoder(sparse=False)),\n",
    "    ('pca', PCA(svd_solver='full'))\n",
    "])\n",
    "\n",
    "# AgeBracket\n",
    "age_feat = ['AgeBracket']\n",
    "age_transformer = Pipeline(steps=[\n",
    "    ('age', FunctionTransformer(trans_age, validate=False)),\n",
    "    ('one-hot', OneHotEncoder(sparse=False)),\n",
    "    ('pca', PCA(svd_solver='full'))\n",
    "])\n",
    "\n",
    "# Segments\n",
    "seg_feat = ['Segments']\n",
    "seg_transformer = Pipeline(steps=[\n",
    "    ('01', FunctionTransformer(trans_01, validate=False)),\n",
    "    ('pca', PCA(svd_solver='full'))\n",
    "])\n",
    "\n",
    "# preprocessing pipeline (put them together)\n",
    "preproc = ColumnTransformer(transformers=[\n",
    "    ('money', money_transformer, money_feat), \n",
    "    ('Duration', duration_transformer, duration_feat),\n",
    "    ('gender', gender_transformer, gender_feat), \n",
    "    ('region', region_transformer, region_feat),\n",
    "    ('language', language_transformer, language_feat),\n",
    "    ('seg', seg_transformer, seg_feat),\n",
    "    ('Age', age_transformer, age_feat)\n",
    "])\n",
    "\n",
    "plf = Pipeline(steps=[('prep', preproc), ('regressor', LinearRegression())])"
   ]
  },
  {
   "cell_type": "code",
   "execution_count": 949,
   "metadata": {},
   "outputs": [
    {
     "data": {
      "text/plain": [
       "dict_keys(['memory', 'steps', 'verbose', 'prep', 'regressor', 'prep__n_jobs', 'prep__remainder', 'prep__sparse_threshold', 'prep__transformer_weights', 'prep__transformers', 'prep__verbose', 'prep__money', 'prep__Duration', 'prep__gender', 'prep__region', 'prep__language', 'prep__seg', 'prep__Age', 'prep__money__memory', 'prep__money__steps', 'prep__money__verbose', 'prep__money__money_p_d', 'prep__money__money_p_d__accept_sparse', 'prep__money__money_p_d__check_inverse', 'prep__money__money_p_d__func', 'prep__money__money_p_d__inv_kw_args', 'prep__money__money_p_d__inverse_func', 'prep__money__money_p_d__kw_args', 'prep__money__money_p_d__pass_y', 'prep__money__money_p_d__validate', 'prep__Duration__memory', 'prep__Duration__steps', 'prep__Duration__verbose', 'prep__Duration__duration', 'prep__Duration__pca', 'prep__Duration__duration__accept_sparse', 'prep__Duration__duration__check_inverse', 'prep__Duration__duration__func', 'prep__Duration__duration__inv_kw_args', 'prep__Duration__duration__inverse_func', 'prep__Duration__duration__kw_args', 'prep__Duration__duration__pass_y', 'prep__Duration__duration__validate', 'prep__Duration__pca__copy', 'prep__Duration__pca__iterated_power', 'prep__Duration__pca__n_components', 'prep__Duration__pca__random_state', 'prep__Duration__pca__svd_solver', 'prep__Duration__pca__tol', 'prep__Duration__pca__whiten', 'prep__gender__memory', 'prep__gender__steps', 'prep__gender__verbose', 'prep__gender__01', 'prep__gender__pca', 'prep__gender__01__accept_sparse', 'prep__gender__01__check_inverse', 'prep__gender__01__func', 'prep__gender__01__inv_kw_args', 'prep__gender__01__inverse_func', 'prep__gender__01__kw_args', 'prep__gender__01__pass_y', 'prep__gender__01__validate', 'prep__gender__pca__copy', 'prep__gender__pca__iterated_power', 'prep__gender__pca__n_components', 'prep__gender__pca__random_state', 'prep__gender__pca__svd_solver', 'prep__gender__pca__tol', 'prep__gender__pca__whiten', 'prep__region__memory', 'prep__region__steps', 'prep__region__verbose', 'prep__region__01', 'prep__region__pca', 'prep__region__01__accept_sparse', 'prep__region__01__check_inverse', 'prep__region__01__func', 'prep__region__01__inv_kw_args', 'prep__region__01__inverse_func', 'prep__region__01__kw_args', 'prep__region__01__pass_y', 'prep__region__01__validate', 'prep__region__pca__copy', 'prep__region__pca__iterated_power', 'prep__region__pca__n_components', 'prep__region__pca__random_state', 'prep__region__pca__svd_solver', 'prep__region__pca__tol', 'prep__region__pca__whiten', 'prep__language__memory', 'prep__language__steps', 'prep__language__verbose', 'prep__language__language', 'prep__language__one-hot', 'prep__language__pca', 'prep__language__language__accept_sparse', 'prep__language__language__check_inverse', 'prep__language__language__func', 'prep__language__language__inv_kw_args', 'prep__language__language__inverse_func', 'prep__language__language__kw_args', 'prep__language__language__pass_y', 'prep__language__language__validate', 'prep__language__one-hot__categorical_features', 'prep__language__one-hot__categories', 'prep__language__one-hot__drop', 'prep__language__one-hot__dtype', 'prep__language__one-hot__handle_unknown', 'prep__language__one-hot__n_values', 'prep__language__one-hot__sparse', 'prep__language__pca__copy', 'prep__language__pca__iterated_power', 'prep__language__pca__n_components', 'prep__language__pca__random_state', 'prep__language__pca__svd_solver', 'prep__language__pca__tol', 'prep__language__pca__whiten', 'prep__seg__memory', 'prep__seg__steps', 'prep__seg__verbose', 'prep__seg__01', 'prep__seg__pca', 'prep__seg__01__accept_sparse', 'prep__seg__01__check_inverse', 'prep__seg__01__func', 'prep__seg__01__inv_kw_args', 'prep__seg__01__inverse_func', 'prep__seg__01__kw_args', 'prep__seg__01__pass_y', 'prep__seg__01__validate', 'prep__seg__pca__copy', 'prep__seg__pca__iterated_power', 'prep__seg__pca__n_components', 'prep__seg__pca__random_state', 'prep__seg__pca__svd_solver', 'prep__seg__pca__tol', 'prep__seg__pca__whiten', 'prep__Age__memory', 'prep__Age__steps', 'prep__Age__verbose', 'prep__Age__age', 'prep__Age__one-hot', 'prep__Age__pca', 'prep__Age__age__accept_sparse', 'prep__Age__age__check_inverse', 'prep__Age__age__func', 'prep__Age__age__inv_kw_args', 'prep__Age__age__inverse_func', 'prep__Age__age__kw_args', 'prep__Age__age__pass_y', 'prep__Age__age__validate', 'prep__Age__one-hot__categorical_features', 'prep__Age__one-hot__categories', 'prep__Age__one-hot__drop', 'prep__Age__one-hot__dtype', 'prep__Age__one-hot__handle_unknown', 'prep__Age__one-hot__n_values', 'prep__Age__one-hot__sparse', 'prep__Age__pca__copy', 'prep__Age__pca__iterated_power', 'prep__Age__pca__n_components', 'prep__Age__pca__random_state', 'prep__Age__pca__svd_solver', 'prep__Age__pca__tol', 'prep__Age__pca__whiten', 'regressor__copy_X', 'regressor__fit_intercept', 'regressor__n_jobs', 'regressor__normalize'])"
      ]
     },
     "execution_count": 949,
     "metadata": {},
     "output_type": "execute_result"
    }
   ],
   "source": [
    "plf.get_params().keys()"
   ]
  },
  {
   "cell_type": "code",
   "execution_count": 950,
   "metadata": {},
   "outputs": [
    {
     "data": {
      "text/plain": [
       "GridSearchCV(cv=5, error_score='raise-deprecating',\n",
       "             estimator=Pipeline(memory=None,\n",
       "                                steps=[('prep',\n",
       "                                        ColumnTransformer(n_jobs=None,\n",
       "                                                          remainder='drop',\n",
       "                                                          sparse_threshold=0.3,\n",
       "                                                          transformer_weights=None,\n",
       "                                                          transformers=[('money',\n",
       "                                                                         Pipeline(memory=None,\n",
       "                                                                                  steps=[('money_p_d',\n",
       "                                                                                          FunctionTransformer(accept_sparse=False,\n",
       "                                                                                                              check_inverse=True,\n",
       "                                                                                                              func=<function <lambda> at 0x000002093B8A...\n",
       "             param_grid={'prep__Age__pca__n_components': [None, 0.9, 0.99, 0.8],\n",
       "                         'prep__Duration__pca__n_components': [None, 0.5, 1],\n",
       "                         'prep__gender__pca__n_components': [None, 0.5, 1],\n",
       "                         'prep__language__pca__n_components': [None, 0.9, 0.99,\n",
       "                                                               0.8],\n",
       "                         'prep__region__pca__n_components': [None, 0.5, 1],\n",
       "                         'prep__seg__pca__n_components': [None, 0.5, 1]},\n",
       "             pre_dispatch='2*n_jobs', refit=True, return_train_score=False,\n",
       "             scoring=None, verbose=0)"
      ]
     },
     "execution_count": 950,
     "metadata": {},
     "output_type": "execute_result"
    }
   ],
   "source": [
    "# fit model\n",
    "ohtpara = [None, 0.90, 0.99, 0.8]\n",
    "onezero = [None, 0.5, 1]\n",
    "params = {'prep__language__pca__n_components':ohtpara, \n",
    "          'prep__Age__pca__n_components':ohtpara,\n",
    "          'prep__Duration__pca__n_components':onezero,\n",
    "          'prep__seg__pca__n_components':onezero,\n",
    "          'prep__gender__pca__n_components':onezero,\n",
    "          'prep__region__pca__n_components':onezero}\n",
    "grids = GridSearchCV(plf, param_grid=params, cv=5, iid=False)\n",
    "grids.fit(x_train, y_train)"
   ]
  },
  {
   "cell_type": "code",
   "execution_count": 953,
   "metadata": {},
   "outputs": [
    {
     "data": {
      "text/plain": [
       "{'prep__Age__pca__n_components': 0.8,\n",
       " 'prep__Duration__pca__n_components': None,\n",
       " 'prep__gender__pca__n_components': None,\n",
       " 'prep__language__pca__n_components': None,\n",
       " 'prep__region__pca__n_components': None,\n",
       " 'prep__seg__pca__n_components': None}"
      ]
     },
     "execution_count": 953,
     "metadata": {},
     "output_type": "execute_result"
    }
   ],
   "source": [
    "grids.best_params_"
   ]
  },
  {
   "cell_type": "code",
   "execution_count": 951,
   "metadata": {},
   "outputs": [
    {
     "name": "stdout",
     "output_type": "stream",
     "text": [
      "final model rmse_train:  2466698.010610956\n",
      "final model r2_train:  0.7132773197014166\n"
     ]
    }
   ],
   "source": [
    "# get the predict values of trainning sets and calculate rmse and r2 score of trainning sets\n",
    "final_predict_train = grids.predict(x_train)\n",
    "final_rmse_train = math.sqrt(mean_squared_error(final_predict_train, y_train))\n",
    "final_r2_train = grids.score(x_train, y_train)\n",
    "print(\"final model rmse_train: \", final_rmse_train)\n",
    "print(\"final model r2_train: \", final_r2_train)"
   ]
  },
  {
   "cell_type": "code",
   "execution_count": 952,
   "metadata": {},
   "outputs": [
    {
     "name": "stdout",
     "output_type": "stream",
     "text": [
      "final model rmse_test:  1355101.7457937612\n",
      "final model r2_test:  0.6158357853569362\n"
     ]
    }
   ],
   "source": [
    "# get the predict values of test sets and calculate rmse and r2 score of test sets\n",
    "final_predict_test = grids.predict(x_test)\n",
    "final_rmse_test = math.sqrt(mean_squared_error(final_predict_test, y_test))\n",
    "final_r2_test = grids.score(x_test, y_test)\n",
    "print(\"final model rmse_test: \", final_rmse_test)\n",
    "print(\"final model r2_test: \", final_r2_test)"
   ]
  },
  {
   "cell_type": "code",
   "execution_count": 985,
   "metadata": {},
   "outputs": [
    {
     "data": {
      "text/html": [
       "<div>\n",
       "<style scoped>\n",
       "    .dataframe tbody tr th:only-of-type {\n",
       "        vertical-align: middle;\n",
       "    }\n",
       "\n",
       "    .dataframe tbody tr th {\n",
       "        vertical-align: top;\n",
       "    }\n",
       "\n",
       "    .dataframe thead th {\n",
       "        text-align: right;\n",
       "    }\n",
       "</style>\n",
       "<table border=\"1\" class=\"dataframe\">\n",
       "  <thead>\n",
       "    <tr style=\"text-align: right;\">\n",
       "      <th></th>\n",
       "      <th>rmse</th>\n",
       "      <th>r2</th>\n",
       "    </tr>\n",
       "  </thead>\n",
       "  <tbody>\n",
       "    <tr>\n",
       "      <th>trainning sets</th>\n",
       "      <td>2.466698e+06</td>\n",
       "      <td>0.713277</td>\n",
       "    </tr>\n",
       "    <tr>\n",
       "      <th>test sets</th>\n",
       "      <td>1.355102e+06</td>\n",
       "      <td>0.615836</td>\n",
       "    </tr>\n",
       "  </tbody>\n",
       "</table>\n",
       "</div>"
      ],
      "text/plain": [
       "                        rmse        r2\n",
       "trainning sets  2.466698e+06  0.713277\n",
       "test sets       1.355102e+06  0.615836"
      ]
     },
     "execution_count": 985,
     "metadata": {},
     "output_type": "execute_result"
    }
   ],
   "source": [
    "stats_final = pd.DataFrame([[final_rmse_train, final_r2_train], [final_rmse_test, final_r2_test]], columns=['rmse', 'r2'], index=['trainning sets', 'test sets'])\n",
    "stats_final"
   ]
  },
  {
   "cell_type": "code",
   "execution_count": 940,
   "metadata": {},
   "outputs": [
    {
     "data": {
      "text/plain": [
       "<matplotlib.axes._subplots.AxesSubplot at 0x2093bbdf710>"
      ]
     },
     "execution_count": 940,
     "metadata": {},
     "output_type": "execute_result"
    },
    {
     "data": {
      "image/png": "[encoded data removed]",
      "text/plain": [
       "<Figure size 432x288 with 1 Axes>"
      ]
     },
     "metadata": {
      "image/png": {
       "height": 272,
       "width": 387
      },
      "needs_background": "light"
     },
     "output_type": "display_data"
    }
   ],
   "source": [
    "ads[['Spend', 'Impressions']].plot(x='Spend', y='Impressions', kind='Scatter') # a few outliers "
   ]
  },
  {
   "cell_type": "code",
   "execution_count": 941,
   "metadata": {},
   "outputs": [
    {
     "data": {
      "text/plain": [
       "<matplotlib.axes._subplots.AxesSubplot at 0x2093b02b908>"
      ]
     },
     "execution_count": 941,
     "metadata": {},
     "output_type": "execute_result"
    },
    {
     "data": {
      "image/png": "[encoded data removed]",
      "text/plain": [
       "<Figure size 432x288 with 1 Axes>"
      ]
     },
     "metadata": {
      "image/png": {
       "height": 272,
       "width": 387
      },
      "needs_background": "light"
     },
     "output_type": "display_data"
    }
   ],
   "source": [
    "ads.loc[ads['Spend'] <= 5000][['Spend', 'Impressions']].plot(x='Spend', y='Impressions', kind='Scatter') # without outliers"
   ]
  },
  {
   "cell_type": "code",
   "execution_count": 946,
   "metadata": {},
   "outputs": [
    {
     "data": {
      "text/plain": [
       "<matplotlib.axes._subplots.AxesSubplot at 0x2093bb864a8>"
      ]
     },
     "execution_count": 946,
     "metadata": {},
     "output_type": "execute_result"
    },
    {
     "data": {
      "image/png": "[encoded data removed]",
      "text/plain": [
       "<Figure size 432x288 with 1 Axes>"
      ]
     },
     "metadata": {
      "image/png": {
       "height": 272,
       "width": 387
      },
      "needs_background": "light"
     },
     "output_type": "display_data"
    }
   ],
   "source": [
    "full = X.assign(Impressions=y)\n",
    "full[['Duration', 'Impressions']].plot(x='Duration', y='Impressions', kind='Scatter')"
   ]
  },
  {
   "cell_type": "markdown",
   "metadata": {},
   "source": [
    "### Fairness Evaluation"
   ]
  },
  {
   "cell_type": "code",
   "execution_count": 1070,
   "metadata": {},
   "outputs": [],
   "source": [
    "# Fairness will be investigated in predict values of x_test.\n",
    "fair = (\n",
    "    x_test\n",
    "    .assign(predicts=final_predict_test)\n",
    "    .assign(real=y_test)\n",
    "    .reset_index(drop=True)\n",
    ")"
   ]
  },
  {
   "cell_type": "code",
   "execution_count": 1071,
   "metadata": {},
   "outputs": [
    {
     "data": {
      "text/html": [
       "<div>\n",
       "<style scoped>\n",
       "    .dataframe tbody tr th:only-of-type {\n",
       "        vertical-align: middle;\n",
       "    }\n",
       "\n",
       "    .dataframe tbody tr th {\n",
       "        vertical-align: top;\n",
       "    }\n",
       "\n",
       "    .dataframe thead th {\n",
       "        text-align: right;\n",
       "    }\n",
       "</style>\n",
       "<table border=\"1\" class=\"dataframe\">\n",
       "  <thead>\n",
       "    <tr style=\"text-align: right;\">\n",
       "      <th></th>\n",
       "      <th>Language</th>\n",
       "      <th>Spend</th>\n",
       "      <th>RegionID</th>\n",
       "      <th>Gender</th>\n",
       "      <th>AgeBracket</th>\n",
       "      <th>Segments</th>\n",
       "      <th>Duration</th>\n",
       "      <th>predicts</th>\n",
       "      <th>real</th>\n",
       "    </tr>\n",
       "  </thead>\n",
       "  <tbody>\n",
       "    <tr>\n",
       "      <th>0</th>\n",
       "      <td>All</td>\n",
       "      <td>252</td>\n",
       "      <td>All</td>\n",
       "      <td>FEMALE</td>\n",
       "      <td>18+</td>\n",
       "      <td>Provided by Advertiser</td>\n",
       "      <td>15</td>\n",
       "      <td>220551.171258</td>\n",
       "      <td>71739</td>\n",
       "    </tr>\n",
       "    <tr>\n",
       "      <th>1</th>\n",
       "      <td>All</td>\n",
       "      <td>119</td>\n",
       "      <td>Wien</td>\n",
       "      <td>All</td>\n",
       "      <td>35++</td>\n",
       "      <td>Provided by Advertiser</td>\n",
       "      <td>21</td>\n",
       "      <td>100693.379105</td>\n",
       "      <td>73232</td>\n",
       "    </tr>\n",
       "    <tr>\n",
       "      <th>2</th>\n",
       "      <td>en</td>\n",
       "      <td>314</td>\n",
       "      <td>All</td>\n",
       "      <td>All</td>\n",
       "      <td>20-</td>\n",
       "      <td>All</td>\n",
       "      <td>66</td>\n",
       "      <td>239700.253395</td>\n",
       "      <td>169006</td>\n",
       "    </tr>\n",
       "    <tr>\n",
       "      <th>3</th>\n",
       "      <td>All</td>\n",
       "      <td>19</td>\n",
       "      <td>Minnesota</td>\n",
       "      <td>All</td>\n",
       "      <td>18-30</td>\n",
       "      <td>Provided by Advertiser</td>\n",
       "      <td>77</td>\n",
       "      <td>25521.459368</td>\n",
       "      <td>6240</td>\n",
       "    </tr>\n",
       "    <tr>\n",
       "      <th>4</th>\n",
       "      <td>en</td>\n",
       "      <td>1</td>\n",
       "      <td>All</td>\n",
       "      <td>All</td>\n",
       "      <td>All</td>\n",
       "      <td>Provided by Advertiser</td>\n",
       "      <td>50</td>\n",
       "      <td>28075.053181</td>\n",
       "      <td>696</td>\n",
       "    </tr>\n",
       "  </tbody>\n",
       "</table>\n",
       "</div>"
      ],
      "text/plain": [
       "  Language  Spend   RegionID  Gender AgeBracket                Segments  \\\n",
       "0      All    252        All  FEMALE        18+  Provided by Advertiser   \n",
       "1      All    119       Wien     All       35++  Provided by Advertiser   \n",
       "2       en    314        All     All        20-                     All   \n",
       "3      All     19  Minnesota     All      18-30  Provided by Advertiser   \n",
       "4       en      1        All     All        All  Provided by Advertiser   \n",
       "\n",
       "   Duration       predicts    real  \n",
       "0        15  220551.171258   71739  \n",
       "1        21  100693.379105   73232  \n",
       "2        66  239700.253395  169006  \n",
       "3        77   25521.459368    6240  \n",
       "4        50   28075.053181     696  "
      ]
     },
     "execution_count": 1071,
     "metadata": {},
     "output_type": "execute_result"
    }
   ],
   "source": [
    "fair.head() # values 'All' means nan in orignial dataset. it will have no effect on our Fair"
   ]
  },
  {
   "cell_type": "code",
   "execution_count": 1072,
   "metadata": {},
   "outputs": [
    {
     "data": {
      "text/html": [
       "<div>\n",
       "<style scoped>\n",
       "    .dataframe tbody tr th:only-of-type {\n",
       "        vertical-align: middle;\n",
       "    }\n",
       "\n",
       "    .dataframe tbody tr th {\n",
       "        vertical-align: top;\n",
       "    }\n",
       "\n",
       "    .dataframe thead th {\n",
       "        text-align: right;\n",
       "    }\n",
       "</style>\n",
       "<table border=\"1\" class=\"dataframe\">\n",
       "  <thead>\n",
       "    <tr style=\"text-align: right;\">\n",
       "      <th></th>\n",
       "      <th>Language</th>\n",
       "      <th>Spend</th>\n",
       "      <th>RegionID</th>\n",
       "      <th>Gender</th>\n",
       "      <th>AgeBracket</th>\n",
       "      <th>Segments</th>\n",
       "      <th>Duration</th>\n",
       "      <th>predicts</th>\n",
       "      <th>real</th>\n",
       "      <th>diff</th>\n",
       "    </tr>\n",
       "  </thead>\n",
       "  <tbody>\n",
       "    <tr>\n",
       "      <th>0</th>\n",
       "      <td>All</td>\n",
       "      <td>252</td>\n",
       "      <td>All</td>\n",
       "      <td>FEMALE</td>\n",
       "      <td>18+</td>\n",
       "      <td>Provided by Advertiser</td>\n",
       "      <td>15</td>\n",
       "      <td>220551.171258</td>\n",
       "      <td>71739</td>\n",
       "      <td>148812.171258</td>\n",
       "    </tr>\n",
       "    <tr>\n",
       "      <th>1</th>\n",
       "      <td>All</td>\n",
       "      <td>119</td>\n",
       "      <td>Wien</td>\n",
       "      <td>All</td>\n",
       "      <td>35++</td>\n",
       "      <td>Provided by Advertiser</td>\n",
       "      <td>21</td>\n",
       "      <td>100693.379105</td>\n",
       "      <td>73232</td>\n",
       "      <td>27461.379105</td>\n",
       "    </tr>\n",
       "    <tr>\n",
       "      <th>2</th>\n",
       "      <td>en</td>\n",
       "      <td>314</td>\n",
       "      <td>All</td>\n",
       "      <td>All</td>\n",
       "      <td>20-</td>\n",
       "      <td>All</td>\n",
       "      <td>66</td>\n",
       "      <td>239700.253395</td>\n",
       "      <td>169006</td>\n",
       "      <td>70694.253395</td>\n",
       "    </tr>\n",
       "    <tr>\n",
       "      <th>3</th>\n",
       "      <td>All</td>\n",
       "      <td>19</td>\n",
       "      <td>Minnesota</td>\n",
       "      <td>All</td>\n",
       "      <td>18-30</td>\n",
       "      <td>Provided by Advertiser</td>\n",
       "      <td>77</td>\n",
       "      <td>25521.459368</td>\n",
       "      <td>6240</td>\n",
       "      <td>19281.459368</td>\n",
       "    </tr>\n",
       "    <tr>\n",
       "      <th>4</th>\n",
       "      <td>en</td>\n",
       "      <td>1</td>\n",
       "      <td>All</td>\n",
       "      <td>All</td>\n",
       "      <td>All</td>\n",
       "      <td>Provided by Advertiser</td>\n",
       "      <td>50</td>\n",
       "      <td>28075.053181</td>\n",
       "      <td>696</td>\n",
       "      <td>27379.053181</td>\n",
       "    </tr>\n",
       "  </tbody>\n",
       "</table>\n",
       "</div>"
      ],
      "text/plain": [
       "  Language  Spend   RegionID  Gender AgeBracket                Segments  \\\n",
       "0      All    252        All  FEMALE        18+  Provided by Advertiser   \n",
       "1      All    119       Wien     All       35++  Provided by Advertiser   \n",
       "2       en    314        All     All        20-                     All   \n",
       "3      All     19  Minnesota     All      18-30  Provided by Advertiser   \n",
       "4       en      1        All     All        All  Provided by Advertiser   \n",
       "\n",
       "   Duration       predicts    real           diff  \n",
       "0        15  220551.171258   71739  148812.171258  \n",
       "1        21  100693.379105   73232   27461.379105  \n",
       "2        66  239700.253395  169006   70694.253395  \n",
       "3        77   25521.459368    6240   19281.459368  \n",
       "4        50   28075.053181     696   27379.053181  "
      ]
     },
     "execution_count": 1072,
     "metadata": {},
     "output_type": "execute_result"
    }
   ],
   "source": [
    "# assign differen column |predicts - real|\n",
    "fair = fair.assign(diff=abs(fair['predicts'] - fair['real']))\n",
    "fair.head()"
   ]
  },
  {
   "cell_type": "code",
   "execution_count": 1073,
   "metadata": {},
   "outputs": [
    {
     "data": {
      "text/plain": [
       "1355101.7457937612"
      ]
     },
     "execution_count": 1073,
     "metadata": {},
     "output_type": "execute_result"
    }
   ],
   "source": [
    "# total rmse\n",
    "total_rmse = final_rmse_test\n",
    "total_rmse"
   ]
  },
  {
   "cell_type": "code",
   "execution_count": 1074,
   "metadata": {},
   "outputs": [
    {
     "data": {
      "text/plain": [
       "Gender\n",
       "All       1.465952e+07\n",
       "FEMALE    1.610217e+06\n",
       "MALE      6.761784e+05\n",
       "Name: diff, dtype: float64"
      ]
     },
     "execution_count": 1074,
     "metadata": {},
     "output_type": "execute_result"
    }
   ],
   "source": [
    "# lets see how each gender's performence\n",
    "grps = fair.groupby('Gender')['diff'].apply(lambda x: math.sqrt((x**2).sum()))\n",
    "grps"
   ]
  },
  {
   "cell_type": "markdown",
   "metadata": {},
   "source": [
    "we see there is a huge difference between 'MALE' and total_rmse, lets run a permutation test to see whether these is a unfair prediction toward 'MALE'. More specifically, models did better on data whose Gender value is MALE\n",
    "\n",
    "* Null Hypothesis: there is no difference between rmse in ['diff'] when Gender is MALE and total_rmse\n",
    "* Alternative Hypothesis: rmse in ['diff'] when Gender is MALE is lower than total_rmse, which means that our better predicts a better result when Gender is MALE\n",
    "* Test stats: difference between rooted mean square of column['diff'] when Gender is ‘MALE’ and total_rmse\n",
    "* Significant Level: 0.95"
   ]
  },
  {
   "cell_type": "code",
   "execution_count": 1075,
   "metadata": {},
   "outputs": [
    {
     "data": {
      "text/plain": [
       "678923.3085604407"
      ]
     },
     "execution_count": 1075,
     "metadata": {},
     "output_type": "execute_result"
    }
   ],
   "source": [
    "g = fair[['Gender', 'diff']]\n",
    "obs = total_rmse - grps['MALE']\n",
    "obs"
   ]
  },
  {
   "cell_type": "code",
   "execution_count": 1079,
   "metadata": {},
   "outputs": [],
   "source": [
    "stats = []\n",
    "for i in range(100):\n",
    "    spl = pd.DataFrame()\n",
    "    spl = (\n",
    "        spl\n",
    "        .assign(samp_gender=(g['Gender'].sample(frac=1, replace=False).reset_index(drop=True)))\n",
    "        .assign(samp_diff=g['diff'])\n",
    "        .groupby('samp_gender')['samp_diff'].apply(lambda x: math.sqrt((x**2).sum()))\n",
    "    )\n",
    "    stats.append(total_rmse - spl['MALE'])"
   ]
  },
  {
   "cell_type": "code",
   "execution_count": 1081,
   "metadata": {},
   "outputs": [
    {
     "data": {
      "text/plain": [
       "0.01"
      ]
     },
     "execution_count": 1081,
     "metadata": {},
     "output_type": "execute_result"
    }
   ],
   "source": [
    "p_value = (stats > obs).sum()/len(stats)\n",
    "p_value"
   ]
  },
  {
   "cell_type": "markdown",
   "metadata": {},
   "source": [
    "Since 0.01 < 0.025, we have enough evidence to say null hypothesis is wrong. In other words, we may can say that our model did a better job on columns whose Gender is MALE. However, remeber that we combined \"MALE\" and \"FEMALE' into one category \"NOT All\" when trainning our model. As a result, if our model did a better job on \"MALE\", it should did a better job on \"FEMALE\" too. In other words, our model should predicts a high rmse results when \"Gender\" is 'ALL'\n",
    "\n",
    "\n",
    "so lets run a permutation test to see whether our model have a bias on column whose Gender is 'ALL'. "
   ]
  },
  {
   "cell_type": "code",
   "execution_count": 1053,
   "metadata": {},
   "outputs": [
    {
     "data": {
      "text/html": [
       "<div>\n",
       "<style scoped>\n",
       "    .dataframe tbody tr th:only-of-type {\n",
       "        vertical-align: middle;\n",
       "    }\n",
       "\n",
       "    .dataframe tbody tr th {\n",
       "        vertical-align: top;\n",
       "    }\n",
       "\n",
       "    .dataframe thead th {\n",
       "        text-align: right;\n",
       "    }\n",
       "</style>\n",
       "<table border=\"1\" class=\"dataframe\">\n",
       "  <thead>\n",
       "    <tr style=\"text-align: right;\">\n",
       "      <th></th>\n",
       "      <th>Gender</th>\n",
       "      <th>diff</th>\n",
       "    </tr>\n",
       "  </thead>\n",
       "  <tbody>\n",
       "    <tr>\n",
       "      <th>0</th>\n",
       "      <td>NOTAll</td>\n",
       "      <td>148812.171258</td>\n",
       "    </tr>\n",
       "    <tr>\n",
       "      <th>1</th>\n",
       "      <td>All</td>\n",
       "      <td>27461.379105</td>\n",
       "    </tr>\n",
       "    <tr>\n",
       "      <th>2</th>\n",
       "      <td>All</td>\n",
       "      <td>70694.253395</td>\n",
       "    </tr>\n",
       "    <tr>\n",
       "      <th>3</th>\n",
       "      <td>All</td>\n",
       "      <td>19281.459368</td>\n",
       "    </tr>\n",
       "    <tr>\n",
       "      <th>4</th>\n",
       "      <td>All</td>\n",
       "      <td>27379.053181</td>\n",
       "    </tr>\n",
       "  </tbody>\n",
       "</table>\n",
       "</div>"
      ],
      "text/plain": [
       "   Gender           diff\n",
       "0  NOTAll  148812.171258\n",
       "1     All   27461.379105\n",
       "2     All   70694.253395\n",
       "3     All   19281.459368\n",
       "4     All   27379.053181"
      ]
     },
     "execution_count": 1053,
     "metadata": {},
     "output_type": "execute_result"
    }
   ],
   "source": [
    "# \n",
    "test_all = fair[['Gender', 'diff']]\n",
    "test_all.loc[:,'Gender'] = test_all['Gender'].replace({'MALE': 'NOTAll', 'FEMALE': 'NOTAll'})\n",
    "test_all.head()"
   ]
  },
  {
   "cell_type": "markdown",
   "metadata": {},
   "source": [
    "* Null Hypothesis: there is no difference between rmse in ['diff'] when Gender is All and NOTAll\n",
    "* Alternative Hypothesis: rmse in ['diff'] when Gender is ALL is higher than rmse in ['diff] when Gender is NOTAll.\n",
    "* Test stats: absolute difference between rooted mean square of column['diff'] when Gender is ‘ALL’ and NOTAll\n",
    "* Significant Level: 0.95"
   ]
  },
  {
   "cell_type": "code",
   "execution_count": 1056,
   "metadata": {},
   "outputs": [
    {
     "data": {
      "text/plain": [
       "Gender\n",
       "All       1.465952e+07\n",
       "NOTAll    1.746430e+06\n",
       "Name: diff, dtype: float64"
      ]
     },
     "execution_count": 1056,
     "metadata": {},
     "output_type": "execute_result"
    }
   ],
   "source": [
    "grps = test_all.groupby('Gender')['diff'].apply(lambda x: math.sqrt((x**2).sum()))\n",
    "grps"
   ]
  },
  {
   "cell_type": "code",
   "execution_count": 1065,
   "metadata": {},
   "outputs": [
    {
     "data": {
      "text/plain": [
       "12913085.629401743"
      ]
     },
     "execution_count": 1065,
     "metadata": {},
     "output_type": "execute_result"
    }
   ],
   "source": [
    "obs = grps[0] - grps[1]\n",
    "obs"
   ]
  },
  {
   "cell_type": "code",
   "execution_count": 1066,
   "metadata": {},
   "outputs": [],
   "source": [
    "stats = []\n",
    "for i in range(100):\n",
    "    spl = pd.DataFrame()\n",
    "    spl = (\n",
    "        spl\n",
    "        .assign(samp_gender=(test_all['Gender'].sample(frac=1, replace=False).reset_index(drop=True)))\n",
    "        .assign(samp_diff=test_all['diff'])\n",
    "        .groupby('samp_gender')['samp_diff'].apply(lambda x: math.sqrt((x**2).sum()))\n",
    "    )\n",
    "    stats.append(spl[0] - spl[1])"
   ]
  },
  {
   "cell_type": "code",
   "execution_count": 1067,
   "metadata": {},
   "outputs": [
    {
     "data": {
      "text/plain": [
       "0.0"
      ]
     },
     "execution_count": 1067,
     "metadata": {},
     "output_type": "execute_result"
    }
   ],
   "source": [
    "p_value = (stats > obs).sum()/len(stats)\n",
    "p_value"
   ]
  },
  {
   "cell_type": "markdown",
   "metadata": {},
   "source": [
    "since 0,0 is less than 0.025, we have enough evidences to say that rmse in ['diff'] when Gender is All is higher than rmse in ['diff'] when Gender is 'MALE\" or \"FEMALE\"; In other words, we may can say our model has a bias toward input whose Gender is \"ALL\"."
   ]
  },
  {
   "cell_type": "code",
   "execution_count": null,
   "metadata": {},
   "outputs": [],
   "source": []
  }
 ],
 "metadata": {
  "kernelspec": {
   "display_name": "Python 3",
   "language": "python",
   "name": "python3"
  },
  "language_info": {
   "codemirror_mode": {
    "name": "ipython",
    "version": 3
   },
   "file_extension": ".py",
   "mimetype": "text/x-python",
   "name": "python",
   "nbconvert_exporter": "python",
   "pygments_lexer": "ipython3",
   "version": "3.7.3"
  }
 },
 "nbformat": 4,
 "nbformat_minor": 2
}
