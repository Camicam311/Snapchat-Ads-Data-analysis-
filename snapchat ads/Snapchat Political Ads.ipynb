{
 "cells": [
  {
   "cell_type": "markdown",
   "metadata": {},
   "source": [
    "# Snapchat Political Ads\n",
    "\n",
    "### Introduction\n",
    "This projec is based on dataset Snap Political Ads Library which contains snapchat political ads records in 2018 and 2019. This project will contain three sections: Cleaning and EDA, Assessment of Misingness, Permuatation Test.\n",
    "\n",
    "### Cleaning and EDA\n",
    "Download datasets and join two tables. Caculating basic stats and trying to dig interesting things. \n",
    "\n",
    "In this sections, one problem is answerd:\n",
    "\n",
    "    A: The increase of ads are mainly coming from new companies.\n",
    "    \n",
    "    \n",
    "Two problems are raised:\n",
    "\n",
    "    P1: Do companies who quit putting ads in 2019 have less average \"Impressions\" in 2018?\n",
    "    P2: Do new joined companies in 2019 have lower average of spent money?\n",
    "\n",
    "This two problems are gonna be answered in Section Permutation Test\n",
    "\n",
    "### Assessment of Missingness\n",
    "In this part, I analyzed the general information of whole missingness in ads, and did a permutation test for column 'DateEnd' to see if it is conditional depend on column 'Year'. Also, in order to see the relationship between time duaration and missingness of \"DateEnd\", I aggregated data and ploted a graph\n",
    "\n",
    "### Permutation Test\n",
    "Answers: \n",
    "\n",
    "    P1: Do companies who quit putting ads in 2019 have less average \"Impressions\" in 2018?\n",
    "    \n",
    "    A1: We have enough evidence to reject null hypothesis:\n",
    "        the distributions of column Impressions when OrganizationName is in /not in quit_comp are the same, that distributions of column Impressions when OrganizationName is in quit_comp does not have a lower average\n",
    "            \n",
    "    P2: Do new joined companies in 2019 have lower average of spent money?\n",
    "    A2:There is a high probability this is wrong and the inverse is true that new joined companies in 2019 have higher average of spend money. we have enough evidence to reject null hypothesis:\n",
    "        the distributions of column Spend when OrganizationName is in /not in new_comp are the same, that distributions of column spend when OrganizationName is in new_comp does not have a higher average."
   ]
  },
  {
   "cell_type": "markdown",
   "metadata": {},
   "source": [
    "# Code"
   ]
  },
  {
   "cell_type": "code",
   "execution_count": 1,
   "metadata": {
    "ExecuteTime": {
     "end_time": "2019-10-31T23:36:28.652554Z",
     "start_time": "2019-10-31T23:36:27.180520Z"
    }
   },
   "outputs": [],
   "source": [
    "# Basic\n",
    "import numpy as np\n",
    "import os\n",
    "import pandas as pd\n",
    "import datetime\n",
    "import math\n",
    "\n",
    "# visualization\n",
    "import matplotlib.pyplot as plt\n",
    "import seaborn as sns\n",
    "\n",
    "# string\n",
    "import re\n",
    "\n",
    "# machine learnning\n",
    "from sklearn.model_selection import train_test_split\n",
    "from sklearn.linear_model import LinearRegression\n",
    "from dateutil.rrule import rrule, DAILY\n",
    "from sklearn.metrics import mean_squared_error\n",
    "from sklearn.metrics import r2_score\n",
    "from sklearn.pipeline import Pipeline\n",
    "from sklearn.preprocessing import FunctionTransformer\n",
    "from sklearn.preprocessing import OneHotEncoder\n",
    "from sklearn.compose import ColumnTransformer\n",
    "from sklearn.model_selection import GridSearchCV\n",
    "from sklearn.decomposition import PCA\n",
    "from sklearn.preprocessing import StandardScaler\n",
    "\n",
    "%matplotlib inline\n",
    "%config InlineBackend.figure_format = 'retina'  # Higher resolution figures"
   ]
  },
  {
   "cell_type": "markdown",
   "metadata": {},
   "source": [
    "### Import and Clean"
   ]
  },
  {
   "cell_type": "code",
   "execution_count": 4,
   "metadata": {
    "ExecuteTime": {
     "end_time": "2019-10-31T23:36:28.657068Z",
     "start_time": "2019-10-31T23:36:28.654650Z"
    }
   },
   "outputs": [
    {
     "name": "stdout",
     "output_type": "stream",
     "text": [
      "(659, 27) (2659, 27)\n"
     ]
    }
   ],
   "source": [
    "ads_2018 = pd.read_csv('data/2018.csv') #import data\n",
    "ads_2019 = pd.read_csv('data/2019.csv') #import data\n",
    "print(ads_2018.shape, ads_2019.shape)"
   ]
  },
  {
   "cell_type": "code",
   "execution_count": 5,
   "metadata": {
    "scrolled": true
   },
   "outputs": [
    {
     "data": {
      "text/html": [
       "<div>\n",
       "<style scoped>\n",
       "    .dataframe tbody tr th:only-of-type {\n",
       "        vertical-align: middle;\n",
       "    }\n",
       "\n",
       "    .dataframe tbody tr th {\n",
       "        vertical-align: top;\n",
       "    }\n",
       "\n",
       "    .dataframe thead th {\n",
       "        text-align: right;\n",
       "    }\n",
       "</style>\n",
       "<table border=\"1\" class=\"dataframe\">\n",
       "  <thead>\n",
       "    <tr style=\"text-align: right;\">\n",
       "      <th></th>\n",
       "      <th>0</th>\n",
       "    </tr>\n",
       "  </thead>\n",
       "  <tbody>\n",
       "    <tr>\n",
       "      <th>AD ID</th>\n",
       "      <td>Unique identifier for each Political Ad</td>\n",
       "    </tr>\n",
       "    <tr>\n",
       "      <th>CreativeURL</th>\n",
       "      <td>URL link to creative content for the Ad</td>\n",
       "    </tr>\n",
       "    <tr>\n",
       "      <th>Spend</th>\n",
       "      <td>Amount (In USD) spent by the advertiser over t...</td>\n",
       "    </tr>\n",
       "    <tr>\n",
       "      <th>Impressions</th>\n",
       "      <td>Number of times the Ad has been viewed by Snap...</td>\n",
       "    </tr>\n",
       "    <tr>\n",
       "      <th>Start Date</th>\n",
       "      <td>The time at which the Ad was set up to start d...</td>\n",
       "    </tr>\n",
       "  </tbody>\n",
       "</table>\n",
       "</div>"
      ],
      "text/plain": [
       "                                                             0\n",
       "AD ID                  Unique identifier for each Political Ad\n",
       "CreativeURL            URL link to creative content for the Ad\n",
       "Spend        Amount (In USD) spent by the advertiser over t...\n",
       "Impressions  Number of times the Ad has been viewed by Snap...\n",
       "Start Date   The time at which the Ad was set up to start d..."
      ]
     },
     "execution_count": 5,
     "metadata": {},
     "output_type": "execute_result"
    }
   ],
   "source": [
    "## create a dataframe of columns' description based on readme.txt \n",
    "\n",
    "myfile = open(\"data/readme.txt\")\n",
    "readme = myfile.read()\n",
    "myfile.close()\n",
    "readme = readme.replace('Geo-Postal', 'Geo Postal')\n",
    "readme = re.findall('[^\\-\\n]+\\-[^\\-\\n]+', readme)\n",
    "instruction = {}\n",
    "for col in readme[:-2]:\n",
    "    key = col.split(' - ')[0]\n",
    "    val = col.split(' - ')[1]\n",
    "    instruction[key] = val\n",
    "instruction = pd.Series(instruction).to_frame()\n",
    "instruction.head()"
   ]
  },
  {
   "cell_type": "code",
   "execution_count": 9,
   "metadata": {},
   "outputs": [
    {
     "data": {
      "text/html": [
       "<div>\n",
       "<style scoped>\n",
       "    .dataframe tbody tr th:only-of-type {\n",
       "        vertical-align: middle;\n",
       "    }\n",
       "\n",
       "    .dataframe tbody tr th {\n",
       "        vertical-align: top;\n",
       "    }\n",
       "\n",
       "    .dataframe thead th {\n",
       "        text-align: right;\n",
       "    }\n",
       "</style>\n",
       "<table border=\"1\" class=\"dataframe\">\n",
       "  <thead>\n",
       "    <tr style=\"text-align: right;\">\n",
       "      <th></th>\n",
       "      <th>ADID</th>\n",
       "      <th>CreativeUrl</th>\n",
       "      <th>Spend</th>\n",
       "      <th>Impressions</th>\n",
       "      <th>StartDate</th>\n",
       "      <th>EndDate</th>\n",
       "      <th>OrganizationName</th>\n",
       "      <th>BillingAddress</th>\n",
       "      <th>CandidateBallotInformation</th>\n",
       "      <th>PayingAdvertiserName</th>\n",
       "      <th>...</th>\n",
       "      <th>OsType</th>\n",
       "      <th>Segments</th>\n",
       "      <th>LocationType</th>\n",
       "      <th>Language</th>\n",
       "      <th>AdvancedDemographics</th>\n",
       "      <th>Targeting Connection Type</th>\n",
       "      <th>Targeting Carrier (ISP)</th>\n",
       "      <th>Targeting Geo - Postal Code</th>\n",
       "      <th>CreativeProperties</th>\n",
       "      <th>Year</th>\n",
       "    </tr>\n",
       "  </thead>\n",
       "  <tbody>\n",
       "    <tr>\n",
       "      <th>0</th>\n",
       "      <td>2ac103bc69cce2d24b198e6a6d052dbff2c25ae9b6bb9e...</td>\n",
       "      <td>https://www.snap.com/political-ads/asset/69afd...</td>\n",
       "      <td>165</td>\n",
       "      <td>49446</td>\n",
       "      <td>2018-11-01 22:42:22+00:00</td>\n",
       "      <td>2018-11-06 23:00:00+00:00</td>\n",
       "      <td>Bully Pulpit Interactive</td>\n",
       "      <td>1140 Connecticut Ave NW, Suite 800,Washington,...</td>\n",
       "      <td>NaN</td>\n",
       "      <td>NextGen America</td>\n",
       "      <td>...</td>\n",
       "      <td>NaN</td>\n",
       "      <td>NaN</td>\n",
       "      <td>NaN</td>\n",
       "      <td>NaN</td>\n",
       "      <td>NaN</td>\n",
       "      <td>NaN</td>\n",
       "      <td>NaN</td>\n",
       "      <td>NaN</td>\n",
       "      <td>web_view_url:https://nextgenamerica.org/lookup...</td>\n",
       "      <td>2018</td>\n",
       "    </tr>\n",
       "    <tr>\n",
       "      <th>1</th>\n",
       "      <td>40ee7e900be9357ae88181f5c8a56baf6d5aab0e8d0f51...</td>\n",
       "      <td>https://www.snap.com/political-ads/asset/0885d...</td>\n",
       "      <td>17</td>\n",
       "      <td>23805</td>\n",
       "      <td>2018-11-15 15:52:06+00:00</td>\n",
       "      <td>2018-11-24 15:50:38+00:00</td>\n",
       "      <td>Amnesty International Switzerland</td>\n",
       "      <td>CH</td>\n",
       "      <td>NaN</td>\n",
       "      <td>Amnesty International</td>\n",
       "      <td>...</td>\n",
       "      <td>NaN</td>\n",
       "      <td>Provided by Advertiser</td>\n",
       "      <td>NaN</td>\n",
       "      <td>de</td>\n",
       "      <td>NaN</td>\n",
       "      <td>NaN</td>\n",
       "      <td>NaN</td>\n",
       "      <td>NaN</td>\n",
       "      <td>NaN</td>\n",
       "      <td>2018</td>\n",
       "    </tr>\n",
       "    <tr>\n",
       "      <th>2</th>\n",
       "      <td>c80ca50681d552551ceaf625981c0202589ca710d51925...</td>\n",
       "      <td>https://www.snap.com/political-ads/asset/a36b7...</td>\n",
       "      <td>60</td>\n",
       "      <td>12883</td>\n",
       "      <td>2018-09-28 23:10:14+00:00</td>\n",
       "      <td>2018-10-10 02:00:00+00:00</td>\n",
       "      <td>Chong and Koster</td>\n",
       "      <td>1640 Rhode Island Ave. NW, Suite 600,Washingto...</td>\n",
       "      <td>NaN</td>\n",
       "      <td>Voter Participation Center</td>\n",
       "      <td>...</td>\n",
       "      <td>NaN</td>\n",
       "      <td>Provided by Advertiser</td>\n",
       "      <td>NaN</td>\n",
       "      <td>NaN</td>\n",
       "      <td>Marital Status (Single)</td>\n",
       "      <td>NaN</td>\n",
       "      <td>NaN</td>\n",
       "      <td>NaN</td>\n",
       "      <td>web_view_url:https://www.voterparticipation.or...</td>\n",
       "      <td>2018</td>\n",
       "    </tr>\n",
       "    <tr>\n",
       "      <th>3</th>\n",
       "      <td>a3106af2289b62f57f63f4fb89753bdf94e2fadede0478...</td>\n",
       "      <td>https://www.snap.com/political-ads/asset/46819...</td>\n",
       "      <td>2492</td>\n",
       "      <td>377236</td>\n",
       "      <td>2018-10-27 19:23:19+00:00</td>\n",
       "      <td>2018-11-06 23:00:00+00:00</td>\n",
       "      <td>Middle Seat Consulting, LLC</td>\n",
       "      <td>Po Box 21600,Washington,20009,US</td>\n",
       "      <td>NaN</td>\n",
       "      <td>Beto for Texas</td>\n",
       "      <td>...</td>\n",
       "      <td>NaN</td>\n",
       "      <td>NaN</td>\n",
       "      <td>NaN</td>\n",
       "      <td>NaN</td>\n",
       "      <td>NaN</td>\n",
       "      <td>NaN</td>\n",
       "      <td>NaN</td>\n",
       "      <td>NaN</td>\n",
       "      <td>web_view_url:https://betofortexas.com/vote/?ut...</td>\n",
       "      <td>2018</td>\n",
       "    </tr>\n",
       "    <tr>\n",
       "      <th>4</th>\n",
       "      <td>7afda4224482eb70315797966b4dcdeb856df916df5bdc...</td>\n",
       "      <td>https://www.snap.com/political-ads/asset/ee833...</td>\n",
       "      <td>5795</td>\n",
       "      <td>467760</td>\n",
       "      <td>2018-10-25 04:00:00+00:00</td>\n",
       "      <td>2018-11-06 23:00:00+00:00</td>\n",
       "      <td>Middle Seat Consulting, LLC</td>\n",
       "      <td>Po Box 21600,Washington,20009,US</td>\n",
       "      <td>NaN</td>\n",
       "      <td>Beto for Texas</td>\n",
       "      <td>...</td>\n",
       "      <td>NaN</td>\n",
       "      <td>NaN</td>\n",
       "      <td>NaN</td>\n",
       "      <td>NaN</td>\n",
       "      <td>NaN</td>\n",
       "      <td>NaN</td>\n",
       "      <td>NaN</td>\n",
       "      <td>NaN</td>\n",
       "      <td>NaN</td>\n",
       "      <td>2018</td>\n",
       "    </tr>\n",
       "  </tbody>\n",
       "</table>\n",
       "<p>5 rows × 28 columns</p>\n",
       "</div>"
      ],
      "text/plain": [
       "                                                ADID  \\\n",
       "0  2ac103bc69cce2d24b198e6a6d052dbff2c25ae9b6bb9e...   \n",
       "1  40ee7e900be9357ae88181f5c8a56baf6d5aab0e8d0f51...   \n",
       "2  c80ca50681d552551ceaf625981c0202589ca710d51925...   \n",
       "3  a3106af2289b62f57f63f4fb89753bdf94e2fadede0478...   \n",
       "4  7afda4224482eb70315797966b4dcdeb856df916df5bdc...   \n",
       "\n",
       "                                         CreativeUrl  Spend  Impressions  \\\n",
       "0  https://www.snap.com/political-ads/asset/69afd...    165        49446   \n",
       "1  https://www.snap.com/political-ads/asset/0885d...     17        23805   \n",
       "2  https://www.snap.com/political-ads/asset/a36b7...     60        12883   \n",
       "3  https://www.snap.com/political-ads/asset/46819...   2492       377236   \n",
       "4  https://www.snap.com/political-ads/asset/ee833...   5795       467760   \n",
       "\n",
       "                  StartDate                   EndDate  \\\n",
       "0 2018-11-01 22:42:22+00:00 2018-11-06 23:00:00+00:00   \n",
       "1 2018-11-15 15:52:06+00:00 2018-11-24 15:50:38+00:00   \n",
       "2 2018-09-28 23:10:14+00:00 2018-10-10 02:00:00+00:00   \n",
       "3 2018-10-27 19:23:19+00:00 2018-11-06 23:00:00+00:00   \n",
       "4 2018-10-25 04:00:00+00:00 2018-11-06 23:00:00+00:00   \n",
       "\n",
       "                    OrganizationName  \\\n",
       "0           Bully Pulpit Interactive   \n",
       "1  Amnesty International Switzerland   \n",
       "2                   Chong and Koster   \n",
       "3        Middle Seat Consulting, LLC   \n",
       "4        Middle Seat Consulting, LLC   \n",
       "\n",
       "                                      BillingAddress  \\\n",
       "0  1140 Connecticut Ave NW, Suite 800,Washington,...   \n",
       "1                                                 CH   \n",
       "2  1640 Rhode Island Ave. NW, Suite 600,Washingto...   \n",
       "3                   Po Box 21600,Washington,20009,US   \n",
       "4                   Po Box 21600,Washington,20009,US   \n",
       "\n",
       "  CandidateBallotInformation        PayingAdvertiserName  ... OsType  \\\n",
       "0                        NaN             NextGen America  ...    NaN   \n",
       "1                        NaN       Amnesty International  ...    NaN   \n",
       "2                        NaN  Voter Participation Center  ...    NaN   \n",
       "3                        NaN              Beto for Texas  ...    NaN   \n",
       "4                        NaN              Beto for Texas  ...    NaN   \n",
       "\n",
       "                 Segments LocationType Language     AdvancedDemographics  \\\n",
       "0                     NaN          NaN      NaN                      NaN   \n",
       "1  Provided by Advertiser          NaN       de                      NaN   \n",
       "2  Provided by Advertiser          NaN      NaN  Marital Status (Single)   \n",
       "3                     NaN          NaN      NaN                      NaN   \n",
       "4                     NaN          NaN      NaN                      NaN   \n",
       "\n",
       "   Targeting Connection Type Targeting Carrier (ISP)  \\\n",
       "0                        NaN                     NaN   \n",
       "1                        NaN                     NaN   \n",
       "2                        NaN                     NaN   \n",
       "3                        NaN                     NaN   \n",
       "4                        NaN                     NaN   \n",
       "\n",
       "  Targeting Geo - Postal Code  \\\n",
       "0                         NaN   \n",
       "1                         NaN   \n",
       "2                         NaN   \n",
       "3                         NaN   \n",
       "4                         NaN   \n",
       "\n",
       "                                  CreativeProperties  Year  \n",
       "0  web_view_url:https://nextgenamerica.org/lookup...  2018  \n",
       "1                                                NaN  2018  \n",
       "2  web_view_url:https://www.voterparticipation.or...  2018  \n",
       "3  web_view_url:https://betofortexas.com/vote/?ut...  2018  \n",
       "4                                                NaN  2018  \n",
       "\n",
       "[5 rows x 28 columns]"
      ]
     },
     "execution_count": 9,
     "metadata": {},
     "output_type": "execute_result"
    }
   ],
   "source": [
    "## Combine two dataframe\n",
    "\n",
    "ads_2018 = ads_2018.assign(Year=2018) # assign a column represent the year before concate\n",
    "ads_2019 = ads_2019.assign(Year=2019)\n",
    "ads = pd.concat([ads_2018, ads_2019], axis=0) # concate two dataframe\n",
    "ads[['StartDate', 'EndDate']] = ads[['StartDate', 'EndDate']].apply(pd.to_datetime) # Convert StartDate and EndDate into datetime.\n",
    "ads.head()"
   ]
  },
  {
   "cell_type": "markdown",
   "metadata": {},
   "source": [
    "### Basic Stats and Found"
   ]
  },
  {
   "cell_type": "code",
   "execution_count": 6,
   "metadata": {},
   "outputs": [
    {
     "name": "stdout",
     "output_type": "stream",
     "text": [
      "n_unique_2018: 659\n",
      "n_unique_2019: 2659\n",
      "Ratio: 3.0349013657056148\n"
     ]
    }
   ],
   "source": [
    "## Take a look at how many ads each year has. \n",
    "\n",
    "n_unique_2018 = ads_2018['ADID'].nunique()\n",
    "n_unique_2019 = ads_2019['ADID'].nunique()\n",
    "print(\"n_unique_2018:\", n_unique_2018)\n",
    "print(\"n_unique_2019:\", n_unique_2019)\n",
    "print(\"Ratio:\", (n_unique_2019 - n_unique_2018)/n_unique_2018)"
   ]
  },
  {
   "cell_type": "markdown",
   "metadata": {},
   "source": [
    "#### 2019 has 3 times more ads, what about average 'Spend' and 'Impressions'?"
   ]
  },
  {
   "cell_type": "code",
   "execution_count": 316,
   "metadata": {},
   "outputs": [
    {
     "data": {
      "image/png": "[encoded data removed]",
      "text/plain": [
       "<Figure size 432x288 with 1 Axes>"
      ]
     },
     "metadata": {
      "image/png": {
       "height": 263,
       "width": 397
      },
      "needs_background": "light"
     },
     "output_type": "display_data"
    },
    {
     "data": {
      "image/png": "[encoded data removed]",
      "text/plain": [
       "<Figure size 432x288 with 1 Axes>"
      ]
     },
     "metadata": {
      "image/png": {
       "height": 263,
       "width": 397
      },
      "needs_background": "light"
     },
     "output_type": "display_data"
    }
   ],
   "source": [
    "f1 = plt.figure(1)\n",
    "g1 = ads.groupby('Year')['Spend'].apply(np.mean).plot(kind='barh', title='Spend')\n",
    "f2 = plt.figure(2)\n",
    "g2 = ads.groupby('Year')['Impressions'].apply(np.mean).plot(kind='barh', title='Impressions', color='G')\n",
    "plt.show()"
   ]
  },
  {
   "cell_type": "markdown",
   "metadata": {},
   "source": [
    "As we can see, not only the number of ads has increased, the average money spent and impressions' degree are all increased a lot from 2018 to 2019"
   ]
  },
  {
   "cell_type": "markdown",
   "metadata": {},
   "source": [
    "Now, lee's take a look at the OrganizationName column to check \n",
    "\n",
    "    1. how many companies put ads for both years; \n",
    "    2. how many companies put ads in 2019 but not in 2018;\n",
    "    3. which companies put most money and which companies put most ads for each year. \n",
    "    \n",
    "Futhermore, let's figure out whether 2019 has more ads is because there are more new companies, or those old companies put more ads."
   ]
  },
  {
   "cell_type": "code",
   "execution_count": 11,
   "metadata": {},
   "outputs": [
    {
     "data": {
      "text/html": [
       "<div>\n",
       "<style scoped>\n",
       "    .dataframe tbody tr th:only-of-type {\n",
       "        vertical-align: middle;\n",
       "    }\n",
       "\n",
       "    .dataframe tbody tr th {\n",
       "        vertical-align: top;\n",
       "    }\n",
       "\n",
       "    .dataframe thead th {\n",
       "        text-align: right;\n",
       "    }\n",
       "</style>\n",
       "<table border=\"1\" class=\"dataframe\">\n",
       "  <thead>\n",
       "    <tr style=\"text-align: right;\">\n",
       "      <th></th>\n",
       "      <th>stats</th>\n",
       "    </tr>\n",
       "  </thead>\n",
       "  <tbody>\n",
       "    <tr>\n",
       "      <th>increase_in_new</th>\n",
       "      <td>1748</td>\n",
       "    </tr>\n",
       "    <tr>\n",
       "      <th>increase_in_both</th>\n",
       "      <td>639</td>\n",
       "    </tr>\n",
       "    <tr>\n",
       "      <th>increase_comp_num</th>\n",
       "      <td>684</td>\n",
       "    </tr>\n",
       "    <tr>\n",
       "      <th>both_comp_num</th>\n",
       "      <td>90</td>\n",
       "    </tr>\n",
       "    <tr>\n",
       "      <th>highest_2018</th>\n",
       "      <td>Bully Pulpit Interactive</td>\n",
       "    </tr>\n",
       "    <tr>\n",
       "      <th>highest_2019</th>\n",
       "      <td>UnRestrict Minnesota</td>\n",
       "    </tr>\n",
       "    <tr>\n",
       "      <th>decrease_comp_num</th>\n",
       "      <td>225</td>\n",
       "    </tr>\n",
       "    <tr>\n",
       "      <th>increase_per_comp_new</th>\n",
       "      <td>2.55556</td>\n",
       "    </tr>\n",
       "    <tr>\n",
       "      <th>increase_per_comp_both</th>\n",
       "      <td>7.1</td>\n",
       "    </tr>\n",
       "  </tbody>\n",
       "</table>\n",
       "</div>"
      ],
      "text/plain": [
       "                                           stats\n",
       "increase_in_new                             1748\n",
       "increase_in_both                             639\n",
       "increase_comp_num                            684\n",
       "both_comp_num                                 90\n",
       "highest_2018            Bully Pulpit Interactive\n",
       "highest_2019                UnRestrict Minnesota\n",
       "decrease_comp_num                            225\n",
       "increase_per_comp_new                    2.55556\n",
       "increase_per_comp_both                       7.1"
      ]
     },
     "execution_count": 11,
     "metadata": {},
     "output_type": "execute_result"
    }
   ],
   "source": [
    "groups = ads.groupby('Year')['OrganizationName'] # get the groups\n",
    "companies_2018 = (\n",
    "    groups.get_group(2018)\n",
    "    .value_counts().to_frame()\n",
    ") # get the companies count of 2018\n",
    "companies_2019 = (\n",
    "    groups.get_group(2019)\n",
    "    .value_counts().to_frame()\n",
    ") # get the companies count of 2019\n",
    "stats = {}\n",
    "total = companies_2018.join(companies_2019, how='outer', lsuffix='_2018', rsuffix='_2019').fillna(0) # join two\n",
    "total = total.assign(Difference=total['OrganizationName_2019'] - total['OrganizationName_2018']) # put the difference \n",
    "\n",
    "# companies in 2019 but not in 2018\n",
    "new_comp = total.loc[(total['OrganizationName_2018'] == 0) & (total['OrganizationName_2019'] != 0)]\n",
    "\n",
    "# companies in both years\n",
    "both_comp = total.loc[(total['OrganizationName_2018'] != 0) & (total['OrganizationName_2019'] != 0)]\n",
    "\n",
    "stats['increase_in_new'] = new_comp['Difference'].sum() # the increase caused by new companies\n",
    "stats['increase_in_both'] = both_comp['Difference'].sum() # the increase casued by old companies\n",
    "\n",
    "stats['increase_comp_num'] = new_comp.size # increase companies'number\n",
    "\n",
    "stats['both_comp_num'] = both_comp.size #companies for both in 2018 and 2019\n",
    "\n",
    "stats['highest_2018'] = companies_2018['OrganizationName'].idxmax() #the company which put most ads in 2018\n",
    "stats['highest_2019'] = companies_2019['OrganizationName'].idxmax() #the company which put most ads in 2019\n",
    "\n",
    "#number of companies who put ads in 2018 but not in 2019\n",
    "stats['decrease_comp_num'] = total.loc[(total['OrganizationName_2018'] != 0) & (total['OrganizationName_2019'] == 0)].size\n",
    "stats['increase_per_comp_new'] = stats['increase_in_new']/stats['increase_comp_num']\n",
    "stats['increase_per_comp_both'] = stats['increase_in_both']/stats['both_comp_num']\n",
    "\n",
    "# put all in a dataframe\n",
    "stats_df = pd.Series(stats).to_frame()\n",
    "stats_df = stats_df.rename(columns={0: 'stats'})\n",
    "stats_df"
   ]
  },
  {
   "cell_type": "markdown",
   "metadata": {},
   "source": [
    "#### As we can see,\n",
    "    1. The increase of ads are mainly caused by new companies. However, \n",
    "    2. The company who put most ads in 2018 is Bully Pulpit Interactive, and the The company who put most ads in 2019 is UnRestrict Minnesota\n",
    "    3. There are 684 new companies, while only 225 companies that put ads in 2018 quit in 2019\n",
    "  \n",
    "  \n",
    "Few new questions are raised?\n",
    "A: Can we get some clues of the reason why those 225 companies quit?\n",
    "    .Are they have a less average of impressions than other companies?\n",
    "\n",
    "B: For new joined companies, are they more cautious? \n",
    "    .Do they have a lower average of spent money?\n",
    "    \n",
    "In the Permutation Test section, I will run test to see if we have enough evidence back up our guess."
   ]
  },
  {
   "cell_type": "markdown",
   "metadata": {},
   "source": [
    "### Assessment of Missingness"
   ]
  },
  {
   "cell_type": "markdown",
   "metadata": {
    "ExecuteTime": {
     "end_time": "2019-10-31T23:36:28.662099Z",
     "start_time": "2019-10-31T23:36:28.660016Z"
    }
   },
   "source": [
    "#### Let's first take a look of overall missingness information"
   ]
  },
  {
   "cell_type": "code",
   "execution_count": 318,
   "metadata": {},
   "outputs": [
    {
     "name": "stdout",
     "output_type": "stream",
     "text": [
      "18\n"
     ]
    },
    {
     "data": {
      "text/html": [
       "<div>\n",
       "<style scoped>\n",
       "    .dataframe tbody tr th:only-of-type {\n",
       "        vertical-align: middle;\n",
       "    }\n",
       "\n",
       "    .dataframe tbody tr th {\n",
       "        vertical-align: top;\n",
       "    }\n",
       "\n",
       "    .dataframe thead th {\n",
       "        text-align: right;\n",
       "    }\n",
       "</style>\n",
       "<table border=\"1\" class=\"dataframe\">\n",
       "  <thead>\n",
       "    <tr style=\"text-align: right;\">\n",
       "      <th></th>\n",
       "      <th>Num</th>\n",
       "    </tr>\n",
       "  </thead>\n",
       "  <tbody>\n",
       "    <tr>\n",
       "      <th>Targeting Carrier (ISP)</th>\n",
       "      <td>3318</td>\n",
       "    </tr>\n",
       "    <tr>\n",
       "      <th>Targeting Connection Type</th>\n",
       "      <td>3318</td>\n",
       "    </tr>\n",
       "    <tr>\n",
       "      <th>LatLongRad</th>\n",
       "      <td>3318</td>\n",
       "    </tr>\n",
       "    <tr>\n",
       "      <th>LocationType</th>\n",
       "      <td>3300</td>\n",
       "    </tr>\n",
       "    <tr>\n",
       "      <th>OsType</th>\n",
       "      <td>3297</td>\n",
       "    </tr>\n",
       "    <tr>\n",
       "      <th>ElectoralDistrictID</th>\n",
       "      <td>3253</td>\n",
       "    </tr>\n",
       "    <tr>\n",
       "      <th>AdvancedDemographics</th>\n",
       "      <td>3222</td>\n",
       "    </tr>\n",
       "    <tr>\n",
       "      <th>MetroID</th>\n",
       "      <td>3138</td>\n",
       "    </tr>\n",
       "    <tr>\n",
       "      <th>CandidateBallotInformation</th>\n",
       "      <td>3086</td>\n",
       "    </tr>\n",
       "    <tr>\n",
       "      <th>Gender</th>\n",
       "      <td>2996</td>\n",
       "    </tr>\n",
       "    <tr>\n",
       "      <th>Targeting Geo - Postal Code</th>\n",
       "      <td>2918</td>\n",
       "    </tr>\n",
       "    <tr>\n",
       "      <th>Interests</th>\n",
       "      <td>2528</td>\n",
       "    </tr>\n",
       "    <tr>\n",
       "      <th>Language</th>\n",
       "      <td>2397</td>\n",
       "    </tr>\n",
       "    <tr>\n",
       "      <th>RegionID</th>\n",
       "      <td>2299</td>\n",
       "    </tr>\n",
       "    <tr>\n",
       "      <th>Segments</th>\n",
       "      <td>1116</td>\n",
       "    </tr>\n",
       "    <tr>\n",
       "      <th>EndDate</th>\n",
       "      <td>662</td>\n",
       "    </tr>\n",
       "    <tr>\n",
       "      <th>CreativeProperties</th>\n",
       "      <td>653</td>\n",
       "    </tr>\n",
       "    <tr>\n",
       "      <th>AgeBracket</th>\n",
       "      <td>279</td>\n",
       "    </tr>\n",
       "    <tr>\n",
       "      <th>CreativeUrl</th>\n",
       "      <td>0</td>\n",
       "    </tr>\n",
       "    <tr>\n",
       "      <th>Spend</th>\n",
       "      <td>0</td>\n",
       "    </tr>\n",
       "    <tr>\n",
       "      <th>Impressions</th>\n",
       "      <td>0</td>\n",
       "    </tr>\n",
       "    <tr>\n",
       "      <th>StartDate</th>\n",
       "      <td>0</td>\n",
       "    </tr>\n",
       "    <tr>\n",
       "      <th>Year</th>\n",
       "      <td>0</td>\n",
       "    </tr>\n",
       "    <tr>\n",
       "      <th>OrganizationName</th>\n",
       "      <td>0</td>\n",
       "    </tr>\n",
       "    <tr>\n",
       "      <th>BillingAddress</th>\n",
       "      <td>0</td>\n",
       "    </tr>\n",
       "    <tr>\n",
       "      <th>PayingAdvertiserName</th>\n",
       "      <td>0</td>\n",
       "    </tr>\n",
       "    <tr>\n",
       "      <th>CountryCode</th>\n",
       "      <td>0</td>\n",
       "    </tr>\n",
       "    <tr>\n",
       "      <th>ADID</th>\n",
       "      <td>0</td>\n",
       "    </tr>\n",
       "  </tbody>\n",
       "</table>\n",
       "</div>"
      ],
      "text/plain": [
       "                              Num\n",
       "Targeting Carrier (ISP)      3318\n",
       "Targeting Connection Type    3318\n",
       "LatLongRad                   3318\n",
       "LocationType                 3300\n",
       "OsType                       3297\n",
       "ElectoralDistrictID          3253\n",
       "AdvancedDemographics         3222\n",
       "MetroID                      3138\n",
       "CandidateBallotInformation   3086\n",
       "Gender                       2996\n",
       "Targeting Geo - Postal Code  2918\n",
       "Interests                    2528\n",
       "Language                     2397\n",
       "RegionID                     2299\n",
       "Segments                     1116\n",
       "EndDate                       662\n",
       "CreativeProperties            653\n",
       "AgeBracket                    279\n",
       "CreativeUrl                     0\n",
       "Spend                           0\n",
       "Impressions                     0\n",
       "StartDate                       0\n",
       "Year                            0\n",
       "OrganizationName                0\n",
       "BillingAddress                  0\n",
       "PayingAdvertiserName            0\n",
       "CountryCode                     0\n",
       "ADID                            0"
      ]
     },
     "execution_count": 318,
     "metadata": {},
     "output_type": "execute_result"
    }
   ],
   "source": [
    "missing = (\n",
    "    ads\n",
    "    .isna()\n",
    "    .apply(sum)\n",
    "    .sort_values(ascending=False) # sort the values in decreasing order\n",
    "    .to_frame()\n",
    "    .rename(columns={0: 'Num'}) # rename the column name \n",
    ")\n",
    "print((missing[\"Num\"] > 0).sum()) # number of columns which has missing values\n",
    "missing"
   ]
  },
  {
   "cell_type": "markdown",
   "metadata": {},
   "source": [
    "#### In readme.txt:\n",
    "\n",
    "    Gender - Gender targeting criteria used in the Ad. If empty, then it is targeting all genders\n",
    "\n",
    "    AgeBracket - Age targeting criteria used in the Ad. If empty, then it is targeting all ages\n",
    "    \n",
    "    RegionID - Region targeting criteria used in the Ad. This is sub-Country and often represents states or provinces. If empty, then it is targeting all regions in the Country targeted\n",
    "    \n",
    "    ElectoralDistrictID - Electoral districts targeting criteria used in the Ad. If empty, then it is targeting all electoral districts in the Country targeted\n",
    "    \n",
    "    LatLongRad - Point-radius targeting criteria used in the Ad. If empty, then it is targeting all lat/long in the Country targeted\n",
    "    \n",
    "    MetroID - Metro targeting criteria used in the Ad. This is sub-Country and often represents cities. If empty, then it is targeting all metros in the Country targeted\n",
    "    \n",
    "    Interests - Interest audience(s) targeting criteria used in the Ad. If empty, then it is agnostic to interests\n",
    "    \n",
    "    OsType - Operating system targeting criteria used in the Ad. If empty, then it is targeting all operating systems\n",
    "    \n",
    "    Language - Language targeting criteria used in the Ad. If empty, then it is agnostic to language\n",
    "    \n",
    "    AdvancedDemographics - 3rd party data segments targeting criteria used in the Ad. If empty, then it is agnostic to 3rd party data segments\n",
    "\n",
    "    Target Connection Type - Internet connection type targeting criteria used in the Ad. If empty, then it is agnostic to internet connect type\n",
    "    \n",
    "    Targeting Carrier (ISP) - Carrier type targeting criteria used in the Ad. If empty, then it is agnostic to carrier type\n",
    "\n",
    "    Targeting Geo-Postal Code - Postal code(s) targeting criteria used in the Ad. If empty, then it is targeting all postal codes in the Country targeted\n",
    "\n",
    "    CreativeProperties - URL attachments specified in Ad’s call to action\n",
    "    \n",
    "All those columns are MD(Missing by Design), what we are insterested in are the left columns.\n",
    "\n",
    "\n",
    "There will be 18 - 14 = 4 columns which we are not sure about the reason of missingness. They are:\n",
    "\n",
    "    1. Location Type\n",
    "    2. CandidateBallotInformation\n",
    "    3. Segments\n",
    "    4. EndDate\n",
    "    \n",
    "While for both Location Type and CandidateBallotInformation, there are over 3000 missing values while we only have 3000+ size data. The missing values are too much for us to analysis the reasons behind. There is a high possibilities that those two columns values' missingness is non-ignorable.\n",
    "\n",
    "#### Let's take a look at columns 'Segments' and 'EndDate'"
   ]
  },
  {
   "cell_type": "code",
   "execution_count": 319,
   "metadata": {},
   "outputs": [],
   "source": [
    "segments = ads['Segments']\n",
    "end_date = ads['EndDate']"
   ]
  },
  {
   "cell_type": "code",
   "execution_count": 320,
   "metadata": {},
   "outputs": [
    {
     "data": {
      "text/plain": [
       "Provided by Advertiser    2202\n",
       "Null                      1116\n",
       "Name: Segments, dtype: int64"
      ]
     },
     "execution_count": 320,
     "metadata": {},
     "output_type": "execute_result"
    }
   ],
   "source": [
    "segments.fillna('Null').value_counts() # see what values that segments column has, fillna in order to put null value in compare"
   ]
  },
  {
   "cell_type": "markdown",
   "metadata": {},
   "source": [
    "for simplicity, we will not take a look at the end_date values counts. They are just few dates..."
   ]
  },
  {
   "cell_type": "markdown",
   "metadata": {},
   "source": [
    "#### Let's take a guess! Does the null values in end_date means that it is still not end till now (2019/11/13)? \n",
    "\n",
    "It is a very reasonable guess.\n",
    "Let's see if we can find evidence for it\n",
    "\n",
    "    If the missingness depends on the column Year, it will be a kinda proof for our guess."
   ]
  },
  {
   "cell_type": "code",
   "execution_count": 321,
   "metadata": {},
   "outputs": [
    {
     "name": "stdout",
     "output_type": "stream",
     "text": [
      "67 595\n"
     ]
    }
   ],
   "source": [
    "null_2018 = ads.loc[ads[\"Year\"] == 2018, 'EndDate'].isna().sum()\n",
    "null_2019 = ads.loc[ads[\"Year\"] == 2019, 'EndDate'].isna().sum()\n",
    "print(null_2018, null_2019)"
   ]
  },
  {
   "cell_type": "markdown",
   "metadata": {},
   "source": [
    "As we can see, there is a big difference between null_2018 and null_2019, but is this difference caused by randomness? or the missingness depends on column 'Year'\n",
    "\n",
    "#### Let's run a permutation test:\n",
    "\n",
    "    are the distributions of column Year when EndDate is Null/Not-Null different?\n",
    "##### Null Hypothesis: \n",
    "    \n",
    "    The distributions of column Year when EndDate is Null/Not-Null are the same (not different)\n",
    "##### Alternative Hypothesis:\n",
    "    \n",
    "    The distributions of column Year when EndDate is Null/Not-Null are different (not same)\n",
    "##### Static: number of null values for rows that column['Year] is 2019 - number of null values for rows that column['Year] is 2018\n",
    "##### Significant Level: 0.95\n",
    "##### observe static:"
   ]
  },
  {
   "cell_type": "code",
   "execution_count": 322,
   "metadata": {},
   "outputs": [
    {
     "data": {
      "text/plain": [
       "528"
      ]
     },
     "execution_count": 322,
     "metadata": {},
     "output_type": "execute_result"
    }
   ],
   "source": [
    "obs = null_2019 - null_2018\n",
    "obs"
   ]
  },
  {
   "cell_type": "markdown",
   "metadata": {},
   "source": [
    "##### Sampling under null hypothesis"
   ]
  },
  {
   "cell_type": "code",
   "execution_count": 323,
   "metadata": {},
   "outputs": [],
   "source": [
    "stats = []\n",
    "for i in range(1000):\n",
    "    sample = (\n",
    "        ads\n",
    "        .assign(**{'isnull' : ads['EndDate'].isna()})\n",
    "        .assign(**{'random' : ads['Year'].sample(frac=1, replace=False).reset_index(drop=True)})\n",
    "        .groupby('random')['isnull']\n",
    "        .sum()\n",
    "        .to_dict()\n",
    "    )\n",
    "    stats.append(sample[2019] - sample[2018])"
   ]
  },
  {
   "cell_type": "markdown",
   "metadata": {},
   "source": [
    "##### Calculate the p-value"
   ]
  },
  {
   "cell_type": "code",
   "execution_count": 324,
   "metadata": {},
   "outputs": [
    {
     "data": {
      "text/plain": [
       "1.0"
      ]
     },
     "execution_count": 324,
     "metadata": {},
     "output_type": "execute_result"
    }
   ],
   "source": [
    "p_value = (np.array(stats) <= obs).sum()/1000\n",
    "p_value"
   ]
  },
  {
   "cell_type": "markdown",
   "metadata": {},
   "source": [
    "##### Since p_value < 0.025, we reject the null hypothesis. Plot the stats for a better understanding"
   ]
  },
  {
   "cell_type": "code",
   "execution_count": 325,
   "metadata": {},
   "outputs": [
    {
     "data": {
      "image/png": "[encoded data removed]",
      "text/plain": [
       "<Figure size 432x288 with 1 Axes>"
      ]
     },
     "metadata": {
      "image/png": {
       "height": 263,
       "width": 406
      },
      "needs_background": "light"
     },
     "output_type": "display_data"
    }
   ],
   "source": [
    "pd.Series(stats).plot(kind='hist', density=True, alpha=0.8, title='p-value: %f' % p_value)\n",
    "plt.scatter(obs, 0, color='red', s=40);"
   ]
  },
  {
   "cell_type": "markdown",
   "metadata": {},
   "source": [
    "We have enough evidence to reject the null hypothesis, and we may can say that the missingness is depend on Year now. In some degree, this proves our guess:\n",
    "\n",
    "    Since ads in 2019 are published later than ads in 2018 and EndDate column missingness do depend on Year column, there is a possibility that the null value in EndDate means it is still not end till now.\n",
    "    \n",
    "#### To further support our guess, lets divide the data into groups based on how many months since its start date to now and plot the disribution of missingness of EndDate"
   ]
  },
  {
   "cell_type": "code",
   "execution_count": 326,
   "metadata": {},
   "outputs": [
    {
     "data": {
      "text/plain": [
       "datetime.datetime(2019, 11, 14, 8, 19, 39, 818182, tzinfo=datetime.timezone.utc)"
      ]
     },
     "execution_count": 326,
     "metadata": {},
     "output_type": "execute_result"
    }
   ],
   "source": [
    "import datetime\n",
    "from dateutil.rrule import rrule, MONTHLY\n",
    "today = datetime.datetime.now(datetime.timezone.utc) # must be utc timezone\n",
    "today # get today's date"
   ]
  },
  {
   "cell_type": "code",
   "execution_count": 327,
   "metadata": {},
   "outputs": [
    {
     "data": {
      "text/plain": [
       "<matplotlib.axes._subplots.AxesSubplot at 0x1a5071dbef0>"
      ]
     },
     "execution_count": 327,
     "metadata": {},
     "output_type": "execute_result"
    },
    {
     "data": {
      "image/png": "[encoded data removed]",
      "text/plain": [
       "<Figure size 432x288 with 1 Axes>"
      ]
     },
     "metadata": {
      "image/png": {
       "height": 277,
       "width": 377
      },
      "needs_background": "light"
     },
     "output_type": "display_data"
    }
   ],
   "source": [
    "ads.assign(\n",
    "    duaration = ads['StartDate'].apply(lambda x: len([dt for dt in rrule(MONTHLY, dtstart=x, until=today)]))\n",
    "    is_null = ads['EndDate'].isna()\n",
    "    ).groupby('duaration')['is_null'].sum().plot(title='Relationship between months and null values')"
   ]
  },
  {
   "cell_type": "markdown",
   "metadata": {},
   "source": [
    "#### This graph do support our guess! The number of null values decrease through time, especially between 2 month and 6 month "
   ]
  },
  {
   "cell_type": "markdown",
   "metadata": {},
   "source": [
    "### Hypothesis Test"
   ]
  },
  {
   "cell_type": "code",
   "execution_count": 328,
   "metadata": {},
   "outputs": [],
   "source": [
    "# data set up\n",
    "new_comp = total.loc[(total['OrganizationName_2018'] == 0) & (total['OrganizationName_2019'] != 0)].index # new companies\n",
    "quit_comp = total.loc[(total['OrganizationName_2018'] != 0) & (total['OrganizationName_2019'] == 0)].index # companies who quit"
   ]
  },
  {
   "cell_type": "markdown",
   "metadata": {
    "ExecuteTime": {
     "end_time": "2019-10-31T23:36:28.666489Z",
     "start_time": "2019-10-31T23:36:28.664381Z"
    }
   },
   "source": [
    "### First Test:\n",
    "    P1: Do companies who quit putting ads in 2019 have less average \"Impressions\" in 2018?\n",
    "\n",
    "\n",
    "#### Let's run a permutation test:\n",
    "\n",
    "    Are the distributions of column Impressions when OrganizationName is in /not in quit_comp different? To be more specific, does distributions of column Impressions when OrganizationName is in quit_comp have a lower average?\n",
    "##### Null Hypothesis: \n",
    "    \n",
    "    the distributions of column Impressions when OrganizationName is in /not in quit_comp are the same, that distributions of column Impressions when OrganizationName is in quit_comp does not have a lower average\n",
    "##### Alternative Hypothesis:\n",
    "    \n",
    "    the distributions of column Impressions when OrganizationName is in /not in quit_comp are different, and distributions of column Impressions when OrganizationName is in quit_comp has a lower average.\n",
    "##### Static: mean_difference (mean of Impressions of rows that OrganizationName is in quit_comp - mean of Impressions of rows that OrganizationName is not in quit_comp\n",
    "##### Significant Level: 0.95\n",
    "##### observe static:"
   ]
  },
  {
   "cell_type": "code",
   "execution_count": 329,
   "metadata": {},
   "outputs": [
    {
     "data": {
      "text/plain": [
       "-415629.74443730345"
      ]
     },
     "execution_count": 329,
     "metadata": {},
     "output_type": "execute_result"
    }
   ],
   "source": [
    "real = (\n",
    "    ads\n",
    "    .assign(isquit = ads['OrganizationName'].apply(lambda x: x in quit_comp))\n",
    "    .groupby('isquit')['Impressions']\n",
    "    .mean()\n",
    "    .to_dict()\n",
    ")\n",
    "obs = real[True] - real[False]\n",
    "obs"
   ]
  },
  {
   "cell_type": "markdown",
   "metadata": {},
   "source": [
    "##### Sampling under null hypothesis"
   ]
  },
  {
   "cell_type": "code",
   "execution_count": 330,
   "metadata": {},
   "outputs": [],
   "source": [
    "stats = []\n",
    "for i in range(1000):\n",
    "    shuffle = (\n",
    "        ads\n",
    "        .assign(isquit = ads['OrganizationName'].apply(lambda x: x in quit_comp))\n",
    "        .assign(shuffle = ads['Impressions'].sample(frac=1, replace=False).reset_index(drop=True))\n",
    "        .groupby('isquit')['shuffle']\n",
    "        .mean()\n",
    "        .to_dict()\n",
    "    )\n",
    "    stats.append(shuffle[True] - shuffle[False])"
   ]
  },
  {
   "cell_type": "markdown",
   "metadata": {},
   "source": [
    "##### Calculate p-value"
   ]
  },
  {
   "cell_type": "code",
   "execution_count": 331,
   "metadata": {},
   "outputs": [
    {
     "data": {
      "text/plain": [
       "0.0"
      ]
     },
     "execution_count": 331,
     "metadata": {},
     "output_type": "execute_result"
    }
   ],
   "source": [
    "p_value = (np.array(stats) <= obs).sum()/1000\n",
    "p_value"
   ]
  },
  {
   "cell_type": "markdown",
   "metadata": {},
   "source": [
    "0.0 < 0.025, We have enough evidence to reject our null hypothesis. \n",
    "##### plot the data"
   ]
  },
  {
   "cell_type": "code",
   "execution_count": 332,
   "metadata": {},
   "outputs": [
    {
     "data": {
      "image/png": "[encoded data removed]",
      "text/plain": [
       "<Figure size 432x288 with 1 Axes>"
      ]
     },
     "metadata": {
      "image/png": {
       "height": 263,
       "width": 426
      },
      "needs_background": "light"
     },
     "output_type": "display_data"
    }
   ],
   "source": [
    "pd.Series(stats).plot(kind='hist', density=True, alpha=0.8, title='p-value: %f' % p_value)\n",
    "plt.scatter(obs, 0, color='red', s=40);"
   ]
  },
  {
   "cell_type": "markdown",
   "metadata": {},
   "source": [
    "### Second Test:\n",
    "    P2: Do new joined companies in 2019 have lower average of spent money?\n",
    "\n",
    "\n",
    "#### Let's run a permutation test:\n",
    "\n",
    "    Are the distributions of column Spend when OrganizationName is in /not in new_comp different? To be more specific, does distributions of column Spend when OrganizationName is in new_comp have a lower average?\n",
    "##### Null Hypothesis: \n",
    "    \n",
    "    the distributions of column Spend when OrganizationName is in /not in new_comp are the same, that distributions of column spend when OrganizationName is in new_comp does not have a lower average.\n",
    "##### Alternative Hypothesis:\n",
    "    \n",
    "    the distributions of column Spend when OrganizationName is in /not in new_comp are different, and distributions of column Spend when OrganizationName is in new_comp has a lower average.\n",
    "##### Static: mean_difference (mean of spend of rows that OrganizationName is in new_comp - mean of spend  of rows that OrganizationName is not in new_comp\n",
    "##### Significant Level: 0.95\n",
    "##### observe static:"
   ]
  },
  {
   "cell_type": "code",
   "execution_count": 333,
   "metadata": {},
   "outputs": [
    {
     "data": {
      "text/plain": [
       "1288.2467424098877"
      ]
     },
     "execution_count": 333,
     "metadata": {},
     "output_type": "execute_result"
    }
   ],
   "source": [
    "real = (\n",
    "    ads\n",
    "    .assign(isnew = ads['OrganizationName'].apply(lambda x: x in new_comp))\n",
    "    .groupby('isnew')['Spend']\n",
    "    .mean()\n",
    "    .to_dict()\n",
    ")\n",
    "obs = real[True] - real[False]\n",
    "obs"
   ]
  },
  {
   "cell_type": "markdown",
   "metadata": {},
   "source": [
    "##### Sampling under null hypothesis:"
   ]
  },
  {
   "cell_type": "code",
   "execution_count": 334,
   "metadata": {},
   "outputs": [],
   "source": [
    "stats = []\n",
    "for i in range(1000):\n",
    "    shuffle = (\n",
    "        ads\n",
    "        .assign(isnew = ads['OrganizationName'].apply(lambda x: x in new_comp))\n",
    "        .assign(shuffle = ads['Spend'].sample(frac=1, replace=False).reset_index(drop=True))\n",
    "        .groupby('isnew')['shuffle']\n",
    "        .mean()\n",
    "        .to_dict()\n",
    "    )\n",
    "    stats.append(shuffle[True] - shuffle[False])"
   ]
  },
  {
   "cell_type": "markdown",
   "metadata": {},
   "source": [
    "##### Calculate p_value"
   ]
  },
  {
   "cell_type": "code",
   "execution_count": 335,
   "metadata": {},
   "outputs": [
    {
     "data": {
      "text/plain": [
       "1.0"
      ]
     },
     "execution_count": 335,
     "metadata": {},
     "output_type": "execute_result"
    }
   ],
   "source": [
    "p_value = (np.array(stats) <= obs).sum()/1000\n",
    "p_value"
   ]
  },
  {
   "cell_type": "markdown",
   "metadata": {},
   "source": [
    "Interesting! We have a 1.0 p_value if we calculate the p_value according to our current alternative hypothesis!\n",
    "\n",
    "\n",
    "That means we are wrong!!!!\n",
    "\n",
    "\n",
    "Instead of putting less money, new companies tends to spend more money on ads. Now, we change our hypothesis to:\n",
    "\n",
    "##### Null Hypothesis: \n",
    "    \n",
    "    the distributions of column Spend when OrganizationName is in /not in new_comp are the same, that distributions of column spend when OrganizationName is in new_comp does not have a higher average.\n",
    "##### Alternative Hypothesis:\n",
    "    \n",
    "    the distributions of column Spend when OrganizationName is in /not in new_comp are different, and distributions of column Spend when OrganizationName is in new_comp has a higher average.\n",
    "    \n",
    "##### New p_value:"
   ]
  },
  {
   "cell_type": "code",
   "execution_count": 336,
   "metadata": {},
   "outputs": [
    {
     "data": {
      "text/plain": [
       "0.0"
      ]
     },
     "execution_count": 336,
     "metadata": {},
     "output_type": "execute_result"
    }
   ],
   "source": [
    "p_value = (np.array(stats) >= obs).sum()/1000\n",
    "p_value"
   ]
  },
  {
   "cell_type": "markdown",
   "metadata": {},
   "source": [
    "Now we reject our new null hypothesis.\n",
    "\n",
    "##### Plot the data:"
   ]
  },
  {
   "cell_type": "code",
   "execution_count": 338,
   "metadata": {},
   "outputs": [
    {
     "data": {
      "image/png": "[encoded data removed]",
      "text/plain": [
       "<Figure size 432x288 with 1 Axes>"
      ]
     },
     "metadata": {
      "image/png": {
       "height": 263,
       "width": 406
      },
      "needs_background": "light"
     },
     "output_type": "display_data"
    }
   ],
   "source": [
    "pd.Series(stats).plot(kind='hist', density=True, alpha=0.8, title='p-value: %f' % p_value)\n",
    "plt.scatter(obs, 0, color='red', s=40);"
   ]
  }
 ],
 "metadata": {
  "kernelspec": {
   "display_name": "Python 3",
   "language": "python",
   "name": "python3"
  },
  "language_info": {
   "codemirror_mode": {
    "name": "ipython",
    "version": 3
   },
   "file_extension": ".py",
   "mimetype": "text/x-python",
   "name": "python",
   "nbconvert_exporter": "python",
   "pygments_lexer": "ipython3",
   "version": "3.7.3"
  }
 },
 "nbformat": 4,
 "nbformat_minor": 2
}
